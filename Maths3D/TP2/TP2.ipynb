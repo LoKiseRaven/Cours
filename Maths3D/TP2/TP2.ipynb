{
 "cells": [
  {
   "cell_type": "markdown",
   "metadata": {},
   "source": [
    "# TP2 DA SILVA PEREIRA Théo"
   ]
  },
  {
   "cell_type": "code",
   "execution_count": 74,
   "metadata": {},
   "outputs": [],
   "source": [
    "import numpy as np\n",
    "import matplotlib.pyplot as plt"
   ]
  },
  {
   "cell_type": "markdown",
   "metadata": {},
   "source": [
    "# 4.1 Création des matrices utilisées"
   ]
  },
  {
   "cell_type": "markdown",
   "metadata": {},
   "source": [
    "## <u>Exercice 4.1</u> :\n",
    "Créer une fonction point_vecteur(p) qui prend en entrée un point p de coordonnées (x,y) et retourne le vecteur [x, y, 1]."
   ]
  },
  {
   "cell_type": "code",
   "execution_count": 75,
   "metadata": {},
   "outputs": [
    {
     "data": {
      "text/plain": [
       "array([1, 2, 1])"
      ]
     },
     "execution_count": 75,
     "metadata": {},
     "output_type": "execute_result"
    }
   ],
   "source": [
    "def point_vecteur(p):\n",
    "    return np.array([p[0], p[1], 1])\n",
    "\n",
    "point_vecteur(np.array([1, 2]))"
   ]
  },
  {
   "cell_type": "markdown",
   "metadata": {},
   "source": [
    "# <u>Exercice 4.2</u> : \n",
    "\n",
    "Créer une fonction repere_projectif(p_1,p_2,p_3,p_4) qui prend en entrée 4 points $p_i = ( x_i , y_i )$ de R² et retourne un booléen selon que les 4 points forment un repère projectif ou non."
   ]
  },
  {
   "cell_type": "code",
   "execution_count": 76,
   "metadata": {},
   "outputs": [
    {
     "name": "stdout",
     "output_type": "stream",
     "text": [
      "False\n",
      "True\n"
     ]
    }
   ],
   "source": [
    "def repere_projectif(p_1, p_2, p_3, p_4):\n",
    "    v1 = point_vecteur(p_1)\n",
    "    v2 = point_vecteur(p_2)\n",
    "    v3 = point_vecteur(p_3)\n",
    "    v4 = point_vecteur(p_4)\n",
    "\n",
    "    if np.linalg.det(np.array([v1, v2, v3])) != 0:\n",
    "        if np.linalg.det(np.array([v1, v2, v4])) != 0:\n",
    "            if np.linalg.det(np.array([v1, v3, v4])) != 0:\n",
    "                if np.linalg.det(np.array([v2, v3, v4])) != 0:\n",
    "                    return True\n",
    "    \n",
    "    return False\n",
    "\n",
    "p1 = np.array([0, 1])\n",
    "p2 = np.array([0, 2])\n",
    "p3 = np.array([0, 1])\n",
    "p4 = np.array([2, 2])\n",
    "print(repere_projectif(p1, p2, p3, p4)) # p1, p2, p3 sont alignés\n",
    "\n",
    "\n",
    "p1 = np.array([1, 1])\n",
    "p2 = np.array([1, 2])\n",
    "p3 = np.array([2, 1])\n",
    "p4 = np.array([2, 2])\n",
    "print(repere_projectif(p1, p2, p3, p4)) # aucun point n'est aligné\n",
    "\n"
   ]
  },
  {
   "cell_type": "markdown",
   "metadata": {},
   "source": [
    "# <u>Exercice 4.3</u> :\n",
    "Créer une fonction matrice_A(p_1,p_2,p_3,p_4) qui prend en entrée 4 points $p_i = (x_i, y_i) de R²$ et retourne la matrice A de la Section 2.6."
   ]
  },
  {
   "cell_type": "code",
   "execution_count": 77,
   "metadata": {},
   "outputs": [
    {
     "data": {
      "text/plain": [
       "array([[0, 1, 0],\n",
       "       [0, 0, 1],\n",
       "       [1, 1, 1]])"
      ]
     },
     "execution_count": 77,
     "metadata": {},
     "output_type": "execute_result"
    }
   ],
   "source": [
    "p1 = np.array([0, 0])\n",
    "p2 = np.array([1, 0])\n",
    "p3 = np.array([0, 1])\n",
    "p4 = np.array([1, 1])\n",
    "\n",
    "p1_prime = np.array([0, 0])\n",
    "p2_prime = np.array([3, 1])\n",
    "p3_prime = np.array([2, 1])\n",
    "p4_prime = np.array([5, 3/2])\n",
    "\n",
    "\n",
    "def matrice_A(p_1, p_2, p_3, p_4):\n",
    "    return np.transpose(np.array([point_vecteur(p_1), point_vecteur(p_2), point_vecteur(p_3)]))\n",
    "\n",
    "matrice_A(p1, p2, p3, p4)"
   ]
  },
  {
   "cell_type": "markdown",
   "metadata": {},
   "source": [
    "# <u>Exercice 4.4</u> :\n",
    "Créer une fonction matrice_B(p_1,p_2,p_3,p_4) qui prend en entrée 4 points $p_i = (x_i, y_i) de R²$ et retourne la matrice B de la Section 2.6."
   ]
  },
  {
   "cell_type": "code",
   "execution_count": 78,
   "metadata": {},
   "outputs": [
    {
     "name": "stdout",
     "output_type": "stream",
     "text": [
      "[[-1. -1.  1.]\n",
      " [ 1.  0.  0.]\n",
      " [ 0.  1.  0.]] \n",
      "\n",
      "[[1. 0. 0.]\n",
      " [0. 1. 0.]\n",
      " [0. 0. 1.]]\n"
     ]
    }
   ],
   "source": [
    "def matrice_B(p_1, p_2, p_3, p_4):\n",
    "    return np.linalg.inv(matrice_A(p_1, p_2, p_3, p_4))\n",
    "\n",
    "print(matrice_B(p1, p2, p3, p4), \"\\n\")\n",
    "\n",
    "print(np.dot(matrice_A(p1, p2, p3, p4), matrice_B(p1, p2, p3, p4))) # A*B = I"
   ]
  },
  {
   "cell_type": "markdown",
   "metadata": {},
   "source": [
    "# <u>Exercice 4.5</u> :\n",
    "Créer une fonction matrice_D(p_1,p_2,p_3,p_4) qui prend en entrée 4 points $p_i = (x_i, y_i) de R²$ et retourne la matrice C de la Section 2.6."
   ]
  },
  {
   "cell_type": "code",
   "execution_count": 79,
   "metadata": {},
   "outputs": [
    {
     "data": {
      "text/plain": [
       "array([[ 0.,  1.,  0.],\n",
       "       [ 0.,  0.,  1.],\n",
       "       [-1.,  1.,  1.]])"
      ]
     },
     "execution_count": 79,
     "metadata": {},
     "output_type": "execute_result"
    }
   ],
   "source": [
    "def matrice_C(p_1, p_2, p_3, p_4):\n",
    "    vec_lambda = np.dot(matrice_B(p_1, p_2, p_3, p_4), point_vecteur(p_4))\n",
    "    vec_lambda = np.diag(vec_lambda)\n",
    "    return np.dot(matrice_A(p1, p2, p3, p4), vec_lambda)\n",
    "\n",
    "matrice_C(p1, p2, p3, p4)"
   ]
  },
  {
   "cell_type": "markdown",
   "metadata": {},
   "source": [
    "# <u>Exercice 4.6</u> :\n",
    "Créer une fonction matrice_passage(p_1,p_2,p_3,p_4,p_1,p_2,p_3,p_4) qui en prend en entrée 2 quadruplets de points, vérifie qu’ils forment des repères projectifs, si oui retourne la matrice P de la Section et sinon lève une erreur avec une commande du type\n",
    "```py\n",
    "if condition:\n",
    "    raise ValueError(\"Message derreur\")\n",
    "```"
   ]
  },
  {
   "cell_type": "code",
   "execution_count": 80,
   "metadata": {},
   "outputs": [
    {
     "data": {
      "text/plain": [
       "array([[ 2. ,  0. ,  0. ],\n",
       "       [ 0. , -0.5,  0. ],\n",
       "       [ 1.5, -1. ,  0.5]])"
      ]
     },
     "execution_count": 80,
     "metadata": {},
     "output_type": "execute_result"
    }
   ],
   "source": [
    "def matrice_passage(p_1, p_2, p_3, p_4, p_1_prime, p_2_prime, p_3_prime, p_4_prime):\n",
    "    if not repere_projectif(p_1, p_2, p_3, p_4) or not repere_projectif(p_1_prime, p_2_prime, p_3_prime, p_4_prime):\n",
    "        raise ValueError(\"Les points ne forment pas un repère projectif\")\n",
    "    \n",
    "    matrice_C_prime = matrice_C(p_1_prime, p_2_prime, p_3_prime, p_4_prime)\n",
    "    #print(matrice_C_prime)\n",
    "    \n",
    "    C = matrice_C(p_1, p_2, p_3, p_4)\n",
    "    #print(C)\n",
    "\n",
    "    matrice_inv_C = np.linalg.inv(C)\n",
    "    #print(matrice_inv_C)\n",
    "\n",
    "    return np.dot(matrice_C_prime, matrice_inv_C)\n",
    "\n",
    "matrice_passage([0, 0], [1, 0], [0, 1], [1, 1], [0, 0], [3, 1], [2, 1], [5, 3/2])"
   ]
  },
  {
   "cell_type": "markdown",
   "metadata": {},
   "source": [
    "# <u>Exercice 4.7</u> :\n",
    "Créer une fonction rectification_projective_A4(p_1,p_2,p_3,p_4,image) qui prend en entrée 4 points (p_1 , p_2 , p_3 , p_4 ) d’une image (préalablement importée avec une commande du type image = plt.imread(\"image.jpg\") et retourne une image au format A4 où le quadrilatère de sommets p_1 , p_2 , p_3 , p_4 a été redressé sur la nouvelle image au format A"
   ]
  },
  {
   "cell_type": "code",
   "execution_count": 88,
   "metadata": {},
   "outputs": [],
   "source": [
    "def g(x, y, P):\n",
    "    vec = np.dot(P, np.array([x, y, 1]))\n",
    "    return np.array([vec[0]/vec[2], vec[1]/vec[2]])"
   ]
  },
  {
   "cell_type": "code",
   "execution_count": null,
   "metadata": {},
   "outputs": [
    {
     "name": "stdout",
     "output_type": "stream",
     "text": [
      "[[1. 0. 0.]\n",
      " [0. 1. 0.]\n",
      " [0. 0. 1.]]\n"
     ]
    }
   ],
   "source": [
    "def rectification_projective_A4(p_1, p_2, p_3, p_4):\n",
    "    nouvelle_image=np.zeros((594,420, 3), dtype = np.uint8)\n",
    "\n",
    "    P = matrice_passage(p_1, p_2, p_3, p_4, [0, 0], [420, 0], [0, 594], [420, 594])\n",
    "    p1_prime = g(p_1[0], p_1[1], P)\n",
    "    p2_prime = g(p_2[0], p_2[1], P)\n",
    "    p3_prime = g(p_3[0], p_3[1], P)\n",
    "    p4_prime = g(p_4[0], p_4[1], P)\n",
    "\n",
    "    print (P)   \n",
    "    \n",
    "\n",
    "rectification_projective_A4(p1, p2, p3, p4)"
   ]
  }
 ],
 "metadata": {
  "kernelspec": {
   "display_name": "env",
   "language": "python",
   "name": "python3"
  },
  "language_info": {
   "codemirror_mode": {
    "name": "ipython",
    "version": 3
   },
   "file_extension": ".py",
   "mimetype": "text/x-python",
   "name": "python",
   "nbconvert_exporter": "python",
   "pygments_lexer": "ipython3",
   "version": "3.12.7"
  }
 },
 "nbformat": 4,
 "nbformat_minor": 2
}
