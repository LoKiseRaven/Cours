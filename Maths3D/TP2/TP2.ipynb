{
 "cells": [
  {
   "cell_type": "markdown",
   "metadata": {},
   "source": [
    "# TP2 DA SILVA PEREIRA Théo"
   ]
  },
  {
   "cell_type": "code",
   "execution_count": 3,
   "metadata": {},
   "outputs": [],
   "source": [
    "import numpy as np\n",
    "import matplotlib.pyplot as plt"
   ]
  },
  {
   "cell_type": "markdown",
   "metadata": {},
   "source": [
    "# 4.1 Création des matrices utilisées"
   ]
  },
  {
   "cell_type": "markdown",
   "metadata": {},
   "source": [
    "## <u>Exercice 4.1</u> :\n",
    "Créer une fonction point_vecteur(p) qui prend en entrée un point p de coordonnées (x,y) et retourne le vecteur [x, y, 1]."
   ]
  },
  {
   "cell_type": "code",
   "execution_count": 14,
   "metadata": {},
   "outputs": [
    {
     "data": {
      "text/plain": [
       "array([1, 2, 1])"
      ]
     },
     "execution_count": 14,
     "metadata": {},
     "output_type": "execute_result"
    }
   ],
   "source": [
    "def point_vecteur(p):\n",
    "    return np.array([p[0], p[1], 1])\n",
    "\n",
    "point_vecteur(np.array([1, 2]))"
   ]
  },
  {
   "cell_type": "markdown",
   "metadata": {},
   "source": [
    "# <u>Exercice 4.2</u> : \n",
    "\n",
    "Créer une fonction repere_projectif(p_1,p_2,p_3,p_4) qui prend en entrée 4 points $p_i = ( x_i , y_i )$ de R² et retourne un booléen selon que les 4 points forment un repère projectif ou non."
   ]
  },
  {
   "cell_type": "code",
   "execution_count": null,
   "metadata": {},
   "outputs": [
    {
     "name": "stdout",
     "output_type": "stream",
     "text": [
      "[1 1]\n",
      "[4 4]\n"
     ]
    },
    {
     "data": {
      "text/plain": [
       "np.True_"
      ]
     },
     "execution_count": 25,
     "metadata": {},
     "output_type": "execute_result"
    }
   ],
   "source": [
    "def repere_projectif(p_1, p_2, p_3, p_4):\n",
    "    v1 = point_vecteur(p_1)\n",
    "    v2 = point_vecteur(p_2)\n",
    "    v3 = point_vecteur(p_3)\n",
    "\n",
    "    \n",
    "\n",
    "    return np.linalg.det(np.array([v1, v2, v3])) != 0\n",
    "\n",
    "p1 = np.array([1, 1])\n",
    "p2 = np.array([1, 2])\n",
    "p3 = np.array([2, 1])\n",
    "p4 = np.array([2, 2])\n",
    "repere_projectif(p1, p2, p3, p4)"
   ]
  }
 ],
 "metadata": {
  "kernelspec": {
   "display_name": "env",
   "language": "python",
   "name": "python3"
  },
  "language_info": {
   "codemirror_mode": {
    "name": "ipython",
    "version": 3
   },
   "file_extension": ".py",
   "mimetype": "text/x-python",
   "name": "python",
   "nbconvert_exporter": "python",
   "pygments_lexer": "ipython3",
   "version": "3.12.7"
  }
 },
 "nbformat": 4,
 "nbformat_minor": 2
}
