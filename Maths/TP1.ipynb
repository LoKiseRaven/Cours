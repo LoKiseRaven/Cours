{
 "cells": [
  {
   "cell_type": "markdown",
   "id": "2de41e1e-14b7-493f-8481-6b1b3af2a94c",
   "metadata": {},
   "source": [
    "# TP1 DA SILVA PEREIRA Théo"
   ]
  },
  {
   "cell_type": "code",
   "execution_count": 1,
   "id": "9f36bcf6",
   "metadata": {},
   "outputs": [],
   "source": [
    "import numpy as np\n",
    "from math import sqrt"
   ]
  },
  {
   "cell_type": "markdown",
   "id": "e0e1a4c7",
   "metadata": {},
   "source": [
    "# Exercice 6.1 Le but de cet exercice est de créer deux fonctions, une qui associe le vecteur colonne dans la base canonique à une matrice de $M_m,_n$ (K) et l’autre qui fait l’opération inverse."
   ]
  },
  {
   "cell_type": "markdown",
   "id": "ad2a04f9",
   "metadata": {},
   "source": [
    "## 1. Soit A $ \\in M_m,_n$ (K) et V le vecteur colonne associé. Quelle est la dimension de V ? Quelle est la relation entre les $V_k$ et les $A_i,_j$ ?"
   ]
  },
  {
   "cell_type": "markdown",
   "id": "a9970f2c",
   "metadata": {},
   "source": [
    "V est de dimmension 1"
   ]
  },
  {
   "cell_type": "markdown",
   "id": "32906ea2",
   "metadata": {},
   "source": [
    "## 2. Écrire une fonction colonne Vecteur_Colonne(A) qui prend en entrée une matrice et retourne le vecteur associé de la bonne taille."
   ]
  },
  {
   "cell_type": "code",
   "execution_count": 2,
   "id": "5555bd1f",
   "metadata": {},
   "outputs": [
    {
     "name": "stdout",
     "output_type": "stream",
     "text": [
      "[1. 4. 2. 5. 3. 6.]\n"
     ]
    }
   ],
   "source": [
    "def Vecteur_Colonne(A):\n",
    "    V = np.zeros(A.shape[1]*A.shape[0])\n",
    "    cpt = 0\n",
    "    for i in range(A.shape[1]):\n",
    "        for j in A:\n",
    "            V[cpt] = j[i]\n",
    "            cpt = cpt+1\n",
    "    return V\n",
    "\n",
    "A = np.array([[1, 2, 3], [4, 5, 6]])\n",
    "V = Vecteur_Colonne(A)\n",
    "print(V)"
   ]
  },
  {
   "cell_type": "markdown",
   "id": "0270d488",
   "metadata": {},
   "source": [
    "## 3. Écrire la fonction Matrice(V) qui prend en entrée un vecteur ligne de taille n² et retourne la matrice de taille n x n correspondante."
   ]
  },
  {
   "cell_type": "code",
   "execution_count": 3,
   "id": "8db081ec",
   "metadata": {},
   "outputs": [
    {
     "name": "stdout",
     "output_type": "stream",
     "text": [
      "Test de la fonction avec une matrice carrée :\n",
      "[[1. 4. 7.]\n",
      " [2. 5. 8.]\n",
      " [3. 6. 9.]]\n",
      "\n",
      "Test de la fonction avec une matrice qui n'est pas une matrice carrée\n",
      "Erreur : la matrice n'est pas une matrice carrée\n",
      "0\n"
     ]
    }
   ],
   "source": [
    "def Matrice(V):\n",
    "    n = sqrt(V.shape[0])\n",
    "    if not n%1 == 0:\n",
    "        print(\"Erreur : la matrice n'est pas une matrice carrée\")\n",
    "        return 0\n",
    "\n",
    "    n = int(n)\n",
    "    A = np.zeros([n,n])\n",
    "\n",
    "    cpt = 0\n",
    "\n",
    "    for i in range(n):\n",
    "        for j in range(n):\n",
    "            A[j,i] = V[cpt]\n",
    "            cpt = cpt + 1\n",
    "    return A\n",
    "\n",
    "V2 = np.array([1, 2, 3, 4, 5, 6, 7, 8, 9])\n",
    "Verror = np.array([1, 2, 3])\n",
    "\n",
    "print(\"Test de la fonction avec une matrice carrée :\")\n",
    "print(Matrice(V2))\n",
    "\n",
    "print(\"\\nTest de la fonction avec une matrice qui n'est pas une matrice carrée\")\n",
    "print(Matrice(Verror))"
   ]
  },
  {
   "cell_type": "markdown",
   "id": "f6e291a6",
   "metadata": {},
   "source": [
    "# Exercice 6.2 (Création des matrices croix). Créer une fonction Croix($_i,_j,_n$) qui crée la matrice C_i,_j de taille n² avec des 1 seulement en (i,j) et les voisins verticaux et horizontaux. Il y aura des zéros aux autres positions."
   ]
  },
  {
   "cell_type": "code",
   "execution_count": 4,
   "id": "151ee4b7",
   "metadata": {},
   "outputs": [
    {
     "data": {
      "text/plain": [
       "array([[0., 1., 0.],\n",
       "       [1., 1., 1.],\n",
       "       [0., 1., 0.]])"
      ]
     },
     "execution_count": 4,
     "metadata": {},
     "output_type": "execute_result"
    }
   ],
   "source": [
    "def Croix(i, j, n):\n",
    "    A = np.zeros([n, n])\n",
    "    \n",
    "    if not (i >=0 and j >= 0 and i < n and j < n):\n",
    "        print(f\"Erreur : le point de coordonnée {i, j} n'est pas dans la matrice carrée de taille {n}\")\n",
    "        return 0\n",
    "\n",
    "    # Point central\n",
    "    A[j, i] = 1\n",
    "\n",
    "    # Gauche\n",
    "    if i-1 >= 0:\n",
    "        A[j, i-1] = 1\n",
    "\n",
    "    # Droite\n",
    "    if i+1 < n:\n",
    "        A[j, i+1] = 1\n",
    "    \n",
    "    # Haut\n",
    "    if j-1 >= 0:\n",
    "        A[j-1, i] = 1\n",
    "    \n",
    "    # Bas\n",
    "    if j+1 < n:\n",
    "        A[j+1, i] = 1\n",
    "\n",
    "    return A\n",
    "\n",
    "Croix(1, 1, 3)"
   ]
  },
  {
   "cell_type": "markdown",
   "id": "1f995d27",
   "metadata": {},
   "source": [
    "# Exercice 6.3 (Jeu 3X3). Dans cette question, on veut demande de créer un fonction Lights_Out() sans variable d’entrée qui lance le jeu avec les indications :"
   ]
  },
  {
   "cell_type": "markdown",
   "id": "82ed80ce",
   "metadata": {},
   "source": [
    "1. Phrase d’accueil dans le jeu,\n",
    "2. Tirage d’une configuration aléatoire avec la commande random.randint() de Numpy,\n",
    "3. Achage de la configuration initiale,\n",
    "4. Demande de la case où le joueur veut jouer\n",
    "5. Récupération du numéro de ligne et de colonne avec la commande input()\n",
    "6. Mise à jour de la configuration et achage de celle-ci\n",
    "7. On continue jusqu’à ce que le joueur éteigne toutes les lampes et dans ce cas, on affiche un message de félicitations et on sort du jeu."
   ]
  },
  {
   "cell_type": "code",
   "execution_count": 21,
   "id": "81a8f12b",
   "metadata": {},
   "outputs": [
    {
     "name": "stdout",
     "output_type": "stream",
     "text": [
      "Bienvenue dans Lights Out! Le but du jeu est de remplir la matrice de \"1\".\n",
      "Pour cela vous entrerez des coordonnées (x,y) sur lequel placer votre point.\n",
      "Cela placera une croix qui changera les 1 par des 0 et les 0 par des 1\n",
      "\n",
      "Voici la matrice initiale :\n",
      " [[1. 1. 0.]\n",
      " [0. 0. 0.]\n",
      " [0. 0. 0.]]\n",
      "\n",
      "Nouvelle configuration :\n",
      " [[1. 0. 0.]\n",
      " [1. 1. 1.]\n",
      " [0. 1. 0.]]\n",
      "\n",
      "Nouvelle configuration :\n",
      " [[1. 1. 0.]\n",
      " [0. 0. 0.]\n",
      " [0. 0. 0.]]\n",
      "\n",
      "Nouvelle configuration :\n",
      " [[1. 0. 0.]\n",
      " [1. 1. 1.]\n",
      " [0. 1. 0.]]\n"
     ]
    },
    {
     "ename": "ValueError",
     "evalue": "not enough values to unpack (expected 2, got 0)",
     "output_type": "error",
     "traceback": [
      "\u001b[0;31m---------------------------------------------------------------------------\u001b[0m",
      "\u001b[0;31mValueError\u001b[0m                                Traceback (most recent call last)",
      "Cell \u001b[0;32mIn[21], line 53\u001b[0m\n\u001b[1;32m     51\u001b[0m     \u001b[38;5;66;03m# Le joueur a remplis la matrice de 1\u001b[39;00m\n\u001b[1;32m     52\u001b[0m     \u001b[38;5;28mprint\u001b[39m(\u001b[38;5;124m\"\u001b[39m\u001b[38;5;124mBien joué ! Vous avez gagné\u001b[39m\u001b[38;5;124m\"\u001b[39m)\n\u001b[0;32m---> 53\u001b[0m \u001b[43mLights_Out\u001b[49m\u001b[43m(\u001b[49m\u001b[43m)\u001b[49m\n",
      "Cell \u001b[0;32mIn[21], line 39\u001b[0m, in \u001b[0;36mLights_Out\u001b[0;34m()\u001b[0m\n\u001b[1;32m     34\u001b[0m \u001b[38;5;28mprint\u001b[39m(\u001b[38;5;124m\"\u001b[39m\u001b[38;5;130;01m\\n\u001b[39;00m\u001b[38;5;124mNouvelle configuration :\u001b[39m\u001b[38;5;130;01m\\n\u001b[39;00m\u001b[38;5;124m\"\u001b[39m,M)\n\u001b[1;32m     37\u001b[0m \u001b[38;5;28;01mwhile\u001b[39;00m(\u001b[38;5;129;01mnot\u001b[39;00m np\u001b[38;5;241m.\u001b[39marray_equal(M, Mfinale)):\n\u001b[1;32m     38\u001b[0m     \u001b[38;5;66;03m# Entrée de la colonne et ligne par l'utilisateur\u001b[39;00m\n\u001b[0;32m---> 39\u001b[0m     x, y \u001b[38;5;241m=\u001b[39m \u001b[38;5;28minput\u001b[39m(\u001b[38;5;124m\"\u001b[39m\u001b[38;5;124mEntrez la colonne et la ligne que vous voulez jouer séparées par un espace :\u001b[39m\u001b[38;5;124m\"\u001b[39m)\u001b[38;5;241m.\u001b[39msplit()\n\u001b[1;32m     40\u001b[0m     x \u001b[38;5;241m=\u001b[39m \u001b[38;5;28mint\u001b[39m(x)\n\u001b[1;32m     41\u001b[0m     y \u001b[38;5;241m=\u001b[39m \u001b[38;5;28mint\u001b[39m(y)\n",
      "\u001b[0;31mValueError\u001b[0m: not enough values to unpack (expected 2, got 0)"
     ]
    }
   ],
   "source": [
    "def Lights_Out():\n",
    "    # Message de d'accueil\n",
    "    print(\"Bienvenue dans Lights Out! Le but du jeu est de remplir la matrice de \\\"1\\\".\")\n",
    "    print(\"Pour cela vous entrerez des coordonnées (x,y) sur lequel placer votre point.\") \n",
    "    print(\"Cela placera une croix qui changera les 1 par des 0 et les 0 par des 1\")\n",
    "\n",
    "    n = int(input(\"Entrez la taille de la matrice carré que vous souhaitez (minimum 3) :\"))\n",
    "\n",
    "    # /!\\ Verif n\n",
    "\n",
    "    # Création aléatoire d'une matrice initale\n",
    "    M = np.zeros([n, n])\n",
    "    for i in range(n):\n",
    "        for j in range(n):\n",
    "            M[j, i] = np.random.randint(2)\n",
    "    \n",
    "    # Création de la matrice finale à obtenir\n",
    "    Mfinale = np.full([n, n], 1)\n",
    "    \n",
    "    # Affichage de la matrice initiale\n",
    "    print(\"\\nVoici la matrice initiale :\\n\", M)\n",
    "\n",
    "    # Entrée de la colonne et ligne par l'utilisateur\n",
    "    x, y = input(\"Entrez la colonne et la ligne que vous voulez jouer séparées par un espace :\").split()\n",
    "    x = int(x)\n",
    "    y = int(y)\n",
    "\n",
    "    # /!\\ Faire verif de x et y\n",
    "    \n",
    "    # Création d'une matrice croix\n",
    "    Mcroix = Croix(x, y, n)\n",
    "\n",
    "    M = (M + Mcroix)%2\n",
    "    print(\"\\nNouvelle configuration :\\n\",M)\n",
    "\n",
    "    \n",
    "    while(not np.array_equal(M, Mfinale)):\n",
    "        # Entrée de la colonne et ligne par l'utilisateur\n",
    "        x, y = input(\"Entrez la colonne et la ligne que vous voulez jouer séparées par un espace :\").split()\n",
    "        x = int(x)\n",
    "        y = int(y)\n",
    "\n",
    "        # /!\\ Faire verif de x et y\n",
    "        \n",
    "        # Création d'une matrice croix\n",
    "        Mcroix = Croix(x, y, n)\n",
    "\n",
    "        M = (M + Mcroix)%2\n",
    "        print(\"\\nNouvelle configuration :\\n\",M)\n",
    "\n",
    "    # Le joueur a remplis la matrice de 1\n",
    "    print(\"Bien joué ! Vous avez gagné\")\n",
    "Lights_Out()"
   ]
  },
  {
   "cell_type": "markdown",
   "id": "130e2df5",
   "metadata": {},
   "source": [
    "# Exercice 6.4 (Matrice de passage). Créer une fonction Matrice_Passage(n) qui prend en entrée la dimension n et retourne la matrice dont les vecteurs sont les $C_i,_j$ exprimées dans la base canonique de $M_n(F_2)$. On prendra les $C_i,_j$ dans le même ordre que les vecteurs $E_i,_j$ de la base canonique."
   ]
  },
  {
   "cell_type": "code",
   "execution_count": 11,
   "id": "1bfe993d",
   "metadata": {},
   "outputs": [
    {
     "name": "stdout",
     "output_type": "stream",
     "text": [
      "[[1 0 0 0]\n",
      " [0 1 0 0]\n",
      " [0 0 1 0]\n",
      " [0 0 0 1]]\n"
     ]
    }
   ],
   "source": [
    "import numpy as np\n",
    "\n",
    "def Matrice_Passage(n):\n",
    "    # Nombre total d'éléments dans une matrice n x n\n",
    "    taille = n * n\n",
    "    # Créer une matrice vide de dimension (n^2, n^2)\n",
    "    matrice_passage = np.zeros((taille, taille), dtype=int)\n",
    "    \n",
    "    # Remplir la matrice avec les matrices E_{i,j} aplaties\n",
    "    for i in range(n):\n",
    "        for j in range(n):\n",
    "            # Position du vecteur dans la base canonique\n",
    "            index = i * n + j\n",
    "            # Créer une matrice E_{i,j} avec des 0 partout sauf à la position (i, j)\n",
    "            E = np.zeros((n, n), dtype=int)\n",
    "            E[i, j] = 1\n",
    "            # Aplatir la matrice E et la placer dans la colonne correspondante\n",
    "            matrice_passage[:, index] = E.flatten()\n",
    "    \n",
    "    return matrice_passage\n",
    "\n",
    "# Exemple d'utilisation avec n = 2\n",
    "n = 2\n",
    "matrice = Matrice_Passage(n)\n",
    "print(matrice)\n"
   ]
  },
  {
   "cell_type": "code",
   "execution_count": 10,
   "id": "0839b766",
   "metadata": {},
   "outputs": [
    {
     "name": "stdout",
     "output_type": "stream",
     "text": [
      "\n",
      " [[1 0]\n",
      " [0 0]]\n",
      "\n",
      " [1 0 0 0]\n",
      "\n",
      " [[0 1]\n",
      " [0 0]]\n",
      "\n",
      " [0 1 0 0]\n",
      "\n",
      " [[0 0]\n",
      " [1 0]]\n",
      "\n",
      " [0 0 1 0]\n",
      "\n",
      " [[0 0]\n",
      " [0 1]]\n",
      "\n",
      " [0 0 0 1]\n",
      "\n",
      " [[1 0 0 0]\n",
      " [0 1 0 0]\n",
      " [0 0 1 0]\n",
      " [0 0 0 1]]\n"
     ]
    }
   ],
   "source": [
    "import numpy as np\n",
    "\n",
    "def Matrice_Passage(n):\n",
    "    # Initialiser une matrice vide de taille n^2 x n^2\n",
    "    matrice = np.zeros((n*n, n*n), dtype=int)\n",
    "    \n",
    "    # Remplir la matrice avec les vecteurs C_ij (déroulés des matrices élémentaires E_ij)\n",
    "    for i in range(n):\n",
    "        for j in range(n):\n",
    "            # Construire la matrice élémentaire E_ij\n",
    "            E_ij = np.zeros((n, n), dtype=int)\n",
    "            E_ij[i, j] = 1  # Placer un \"1\" à la position (i, j)\n",
    "            # Dérouler la matrice E_ij en un vecteur de longueur n^2\n",
    "            vecteur_C_ij = E_ij.flatten()            \n",
    "            # Placer ce vecteur dans la matrice de passage\n",
    "            matrice[i*n + j, :] = vecteur_C_ij\n",
    "    \n",
    "    return matrice\n",
    "\n",
    "print(\"\\n\", Matrice_Passage(2))"
   ]
  },
  {
   "cell_type": "code",
   "execution_count": 12,
   "id": "676f0df7",
   "metadata": {},
   "outputs": [
    {
     "name": "stdout",
     "output_type": "stream",
     "text": [
      "[[1. 0. 0. 0.]\n",
      " [0. 1. 0. 0.]\n",
      " [0. 0. 1. 0.]\n",
      " [0. 0. 0. 1.]]\n"
     ]
    }
   ],
   "source": [
    "def Matrice_Passage(n):\n",
    "    matrice_passage = np.zeros((n*n, n*n))\n",
    "    index = 0\n",
    "    for i in range(n):\n",
    "        for j in range(n):\n",
    "            matrice_passage[index, i*n+j] = 1\n",
    "            index += 1\n",
    "    return matrice_passage\n",
    "\n",
    "print(Matrice_Passage(2))"
   ]
  },
  {
   "cell_type": "code",
   "execution_count": null,
   "id": "ed8474e4",
   "metadata": {},
   "outputs": [],
   "source": []
  }
 ],
 "metadata": {
  "kernelspec": {
   "display_name": "env",
   "language": "python",
   "name": "python3"
  },
  "language_info": {
   "codemirror_mode": {
    "name": "ipython",
    "version": 3
   },
   "file_extension": ".py",
   "mimetype": "text/x-python",
   "name": "python",
   "nbconvert_exporter": "python",
   "pygments_lexer": "ipython3",
   "version": "3.12.7"
  }
 },
 "nbformat": 4,
 "nbformat_minor": 5
}
