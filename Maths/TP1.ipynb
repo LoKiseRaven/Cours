{
 "cells": [
  {
   "cell_type": "markdown",
   "id": "2de41e1e-14b7-493f-8481-6b1b3af2a94c",
   "metadata": {},
   "source": [
    "# TP1 DA SILVA PEREIRA Théo"
   ]
  },
  {
   "cell_type": "code",
   "execution_count": 52,
   "id": "9f36bcf6",
   "metadata": {},
   "outputs": [],
   "source": [
    "import numpy as np\n",
    "from math import sqrt\n",
    "import sympy as sp\n",
    "import pygame"
   ]
  },
  {
   "cell_type": "markdown",
   "id": "e0e1a4c7",
   "metadata": {},
   "source": [
    "# Exercice 6.1 Le but de cet exercice est de créer deux fonctions, une qui associe le vecteur colonne dans la base canonique à une matrice de $M_m,_n$ (K) et l’autre qui fait l’opération inverse."
   ]
  },
  {
   "cell_type": "markdown",
   "id": "ad2a04f9",
   "metadata": {},
   "source": [
    "## 1. Soit A $ \\in M_m,_n$ (K) et V le vecteur colonne associé. Quelle est la dimension de V ? Quelle est la relation entre les $V_k$ et les $A_i,_j$ ?"
   ]
  },
  {
   "cell_type": "markdown",
   "id": "a9970f2c",
   "metadata": {},
   "source": [
    "V est de dimmension 1"
   ]
  },
  {
   "cell_type": "markdown",
   "id": "32906ea2",
   "metadata": {},
   "source": [
    "## 2. Écrire une fonction colonne Vecteur_Colonne(A) qui prend en entrée une matrice et retourne le vecteur associé de la bonne taille."
   ]
  },
  {
   "cell_type": "code",
   "execution_count": 94,
   "id": "5555bd1f",
   "metadata": {},
   "outputs": [
    {
     "name": "stdout",
     "output_type": "stream",
     "text": [
      "[1. 4. 2. 5. 3. 6.]\n"
     ]
    }
   ],
   "source": [
    "def Vecteur_Colonne(A):\n",
    "    V = np.zeros(A.shape[1]*A.shape[0])\n",
    "    cpt = 0\n",
    "    for i in range(A.shape[1]):\n",
    "        for j in A:\n",
    "            V[cpt] = j[i]\n",
    "            cpt = cpt+1\n",
    "    return V\n",
    "\n",
    "A = np.array([[1, 2, 3], [4, 5, 6]])\n",
    "V = Vecteur_Colonne(A)\n",
    "print(V)"
   ]
  },
  {
   "cell_type": "markdown",
   "id": "0270d488",
   "metadata": {},
   "source": [
    "## 3. Écrire la fonction Matrice(V) qui prend en entrée un vecteur ligne de taille n² et retourne la matrice de taille n x n correspondante."
   ]
  },
  {
   "cell_type": "code",
   "execution_count": 95,
   "id": "8db081ec",
   "metadata": {},
   "outputs": [
    {
     "name": "stdout",
     "output_type": "stream",
     "text": [
      "Test de la fonction avec une matrice carrée :\n",
      "[[1. 4. 7.]\n",
      " [2. 5. 8.]\n",
      " [3. 6. 9.]]\n",
      "\n",
      "Test de la fonction avec une matrice qui n'est pas une matrice carrée\n",
      "Erreur : la matrice n'est pas une matrice carrée\n",
      "0\n"
     ]
    }
   ],
   "source": [
    "def Matrice(V):\n",
    "    n = sqrt(V.shape[0])\n",
    "    if not n%1 == 0:\n",
    "        print(\"Erreur : la matrice n'est pas une matrice carrée\")\n",
    "        return 0\n",
    "\n",
    "    n = int(n)\n",
    "    A = np.zeros([n,n])\n",
    "\n",
    "    cpt = 0\n",
    "\n",
    "    for i in range(n):\n",
    "        for j in range(n):\n",
    "            A[j,i] = V[cpt]\n",
    "            cpt = cpt + 1\n",
    "    return A\n",
    "\n",
    "V2 = np.array([1, 2, 3, 4, 5, 6, 7, 8, 9])\n",
    "Verror = np.array([1, 2, 3])\n",
    "\n",
    "print(\"Test de la fonction avec une matrice carrée :\")\n",
    "print(Matrice(V2))\n",
    "\n",
    "print(\"\\nTest de la fonction avec une matrice qui n'est pas une matrice carrée\")\n",
    "print(Matrice(Verror))"
   ]
  },
  {
   "cell_type": "markdown",
   "id": "f6e291a6",
   "metadata": {},
   "source": [
    "# Exercice 6.2 (Création des matrices croix). Créer une fonction Croix($_i,_j,_n$) qui crée la matrice C_i,_j de taille n² avec des 1 seulement en (i,j) et les voisins verticaux et horizontaux. Il y aura des zéros aux autres positions."
   ]
  },
  {
   "cell_type": "code",
   "execution_count": 10,
   "id": "151ee4b7",
   "metadata": {},
   "outputs": [
    {
     "data": {
      "text/plain": [
       "array([[0., 1., 0.],\n",
       "       [1., 1., 1.],\n",
       "       [0., 1., 0.]])"
      ]
     },
     "execution_count": 10,
     "metadata": {},
     "output_type": "execute_result"
    }
   ],
   "source": [
    "def Croix(i, j, n):\n",
    "    A = np.zeros([n, n])\n",
    "    \n",
    "    if not (i >=0 and j >= 0 and i < n and j < n):\n",
    "        print(f\"Erreur : le point de coordonnée {i, j} n'est pas dans la matrice carrée de taille {n}\")\n",
    "        return 0\n",
    "\n",
    "    # Point central\n",
    "    A[j, i] = 1\n",
    "\n",
    "    # Gauche\n",
    "    if i-1 >= 0:\n",
    "        A[j, i-1] = 1\n",
    "\n",
    "    # Droite\n",
    "    if i+1 < n:\n",
    "        A[j, i+1] = 1\n",
    "    \n",
    "    # Haut\n",
    "    if j-1 >= 0:\n",
    "        A[j-1, i] = 1\n",
    "    \n",
    "    # Bas\n",
    "    if j+1 < n:\n",
    "        A[j+1, i] = 1\n",
    "\n",
    "    return A\n",
    "\n",
    "Croix(1, 1, 3)"
   ]
  },
  {
   "cell_type": "markdown",
   "id": "1f995d27",
   "metadata": {},
   "source": [
    "# Exercice 6.3 (Jeu 3X3). Dans cette question, on veut demande de créer un fonction Lights_Out() sans variable d’entrée qui lance le jeu avec les indications :"
   ]
  },
  {
   "cell_type": "markdown",
   "id": "82ed80ce",
   "metadata": {},
   "source": [
    "1. Phrase d’accueil dans le jeu,\n",
    "2. Tirage d’une configuration aléatoire avec la commande random.randint() de Numpy,\n",
    "3. Achage de la configuration initiale,\n",
    "4. Demande de la case où le joueur veut jouer\n",
    "5. Récupération du numéro de ligne et de colonne avec la commande input()\n",
    "6. Mise à jour de la configuration et achage de celle-ci\n",
    "7. On continue jusqu’à ce que le joueur éteigne toutes les lampes et dans ce cas, on affiche un message de félicitations et on sort du jeu."
   ]
  },
  {
   "cell_type": "code",
   "execution_count": 11,
   "id": "81a8f12b",
   "metadata": {},
   "outputs": [
    {
     "name": "stdout",
     "output_type": "stream",
     "text": [
      "Bienvenue dans Lights Out! Le but du jeu est de remplir la matrice de \"1\".\n",
      "Pour cela vous entrerez des coordonnées (x,y) sur lequel placer votre point.\n",
      "Cela placera une croix qui changera les 1 par des 0 et les 0 par des 1\n",
      "\n",
      "Voici la matrice initiale :\n",
      " [[1. 1.]\n",
      " [1. 1.]]\n",
      "\n",
      "Nouvelle configuration :\n",
      " [[1. 0.]\n",
      " [0. 0.]]\n",
      "\n",
      "Nouvelle configuration :\n",
      " [[1. 1.]\n",
      " [1. 1.]]\n",
      "Bien joué ! Vous avez gagné\n"
     ]
    }
   ],
   "source": [
    "def Lights_Out():\n",
    "    # Message de d'accueil\n",
    "    print(\"Bienvenue dans Lights Out! Le but du jeu est de remplir la matrice de \\\"1\\\".\")\n",
    "    print(\"Pour cela vous entrerez des coordonnées (x,y) sur lequel placer votre point.\") \n",
    "    print(\"Cela placera une croix qui changera les 1 par des 0 et les 0 par des 1\")\n",
    "\n",
    "    n = int(input(\"Entrez la taille de la matrice carré que vous souhaitez (minimum 3) :\"))\n",
    "\n",
    "    # /!\\ Verif n\n",
    "\n",
    "    # Création aléatoire d'une matrice initale\n",
    "    M = np.zeros([n, n])\n",
    "    for i in range(n):\n",
    "        for j in range(n):\n",
    "            M[j, i] = np.random.randint(2)\n",
    "    \n",
    "    # Création de la matrice finale à obtenir\n",
    "    Mfinale = np.full([n, n], 1)\n",
    "    \n",
    "    # Affichage de la matrice initiale\n",
    "    print(\"\\nVoici la matrice initiale :\\n\", M)\n",
    "\n",
    "    # Entrée de la colonne et ligne par l'utilisateur\n",
    "    x, y = input(\"Entrez la colonne et la ligne que vous voulez jouer séparées par un espace :\").split()\n",
    "    x = int(x)\n",
    "    y = int(y)\n",
    "\n",
    "    # /!\\ Faire verif de x et y\n",
    "    \n",
    "    # Création d'une matrice croix\n",
    "    Mcroix = Croix(x, y, n)\n",
    "\n",
    "    M = (M + Mcroix)%2\n",
    "    print(\"\\nNouvelle configuration :\\n\",M)\n",
    "\n",
    "    \n",
    "    while(not np.array_equal(M, Mfinale)):\n",
    "        # Entrée de la colonne et ligne par l'utilisateur\n",
    "        x, y = input(\"Entrez la colonne et la ligne que vous voulez jouer séparées par un espace :\").split()\n",
    "        x = int(x)\n",
    "        y = int(y)\n",
    "\n",
    "        # /!\\ Faire verif de x et y\n",
    "        \n",
    "        # Création d'une matrice croix\n",
    "        Mcroix = Croix(x, y, n)\n",
    "\n",
    "        M = (M + Mcroix)%2\n",
    "        print(\"\\nNouvelle configuration :\\n\",M)\n",
    "\n",
    "    # Le joueur a remplis la matrice de 1\n",
    "    print(\"Bien joué ! Vous avez gagné\")\n",
    "Lights_Out()"
   ]
  },
  {
   "cell_type": "markdown",
   "id": "130e2df5",
   "metadata": {},
   "source": [
    "# Exercice 6.4 (Matrice de passage). Créer une fonction Matrice_Passage(n) qui prend en entrée la dimension n et retourne la matrice dont les vecteurs sont les $C_i,_j$ exprimées dans la base canonique de $M_n(F_2)$. On prendra les $C_i,_j$ dans le même ordre que les vecteurs $E_i,_j$ de la base canonique."
   ]
  },
  {
   "cell_type": "code",
   "execution_count": 60,
   "id": "1bfe993d",
   "metadata": {},
   "outputs": [
    {
     "name": "stdout",
     "output_type": "stream",
     "text": [
      "[[1. 1. 0. 1. 0. 0. 0. 0. 0.]\n",
      " [1. 1. 1. 0. 1. 0. 0. 0. 0.]\n",
      " [0. 1. 1. 0. 0. 1. 0. 0. 0.]\n",
      " [1. 0. 0. 1. 1. 0. 1. 0. 0.]\n",
      " [0. 1. 0. 1. 1. 1. 0. 1. 0.]\n",
      " [0. 0. 1. 0. 1. 1. 0. 0. 1.]\n",
      " [0. 0. 0. 1. 0. 0. 1. 1. 0.]\n",
      " [0. 0. 0. 0. 1. 0. 1. 1. 1.]\n",
      " [0. 0. 0. 0. 0. 1. 0. 1. 1.]]\n"
     ]
    }
   ],
   "source": [
    "def Matrice_Passage(n):\n",
    "    matrice_passage = np.zeros((n*n, n*n))\n",
    "    \n",
    "    for i in range(n):\n",
    "        for j in range(n):\n",
    "            matrice_passage[:, j * n + i] = Croix(i, j, n).flatten()\n",
    "    \n",
    "    return matrice_passage\n",
    "\n",
    "print(Matrice_Passage(3))\n"
   ]
  },
  {
   "cell_type": "markdown",
   "id": "0839b766",
   "metadata": {},
   "source": [
    "# Exercice 6.5. On veut déterminer pour quelles dimensions, le jeu a toujours une solution."
   ]
  },
  {
   "cell_type": "markdown",
   "id": "676f0df7",
   "metadata": {},
   "source": [
    "1. Écrire une boucle qui calcule pour n = 2 à 11, le déterminant de Matrice_Passage(n). On rappelle que ce déterminant est un nombre dans F2 , c’est-à-dire 0 ou 1. Comme Python fait les calculs avec nombres à virgule flottante, il pourra être utile d’utiliser les commandes round(), int() et ajouter %2 pour avoir le reste dans la division euclidienne par 2.\n",
    "2. Donner la liste des dimensions inférieures à 11 pour lesquelles le jeu possède une solution unique pour toute configuration initiale"
   ]
  },
  {
   "cell_type": "code",
   "execution_count": 85,
   "id": "ed8474e4",
   "metadata": {},
   "outputs": [
    {
     "name": "stdout",
     "output_type": "stream",
     "text": [
      "n =  2 det =  1\n",
      "n =  3 det =  1\n",
      "n =  4 det =  0\n",
      "n =  5 det =  0\n",
      "n =  6 det =  1\n",
      "n =  7 det =  1\n",
      "n =  8 det =  1\n",
      "n =  9 det =  0\n",
      "n =  10 det =  1\n",
      "n =  11 det =  0\n",
      "Solutions : [2, 3, 6, 7, 8, 10]\n"
     ]
    }
   ],
   "source": [
    "solutions = []\n",
    "\n",
    "for n in range(2, 12):\n",
    "    matrice_passage = Matrice_Passage(n)\n",
    "    det = int(round(np.linalg.det(matrice_passage))) % 2\n",
    "    if det != 0:\n",
    "        solutions.append(n)\n",
    "    print(\"n = \", n, \"det = \", det)\n",
    "\n",
    "print(\"Solutions :\", solutions)\n"
   ]
  },
  {
   "cell_type": "markdown",
   "id": "5fb19cdc",
   "metadata": {},
   "source": [
    "# Exercice 6.6 (Inverse de la matrice de passage en dimension 3). Grâce à Python, calculer l’inverse de la matrice de passage en dimension 3 dans. On pourra soit faire les calculs dans R avec la commande linalg.inv() de Numpy, se ramener aux entiers puis réduire modulo 2 ou charger le package Sympy, changer le type de la matrice avec Matrix() et calculer l’inverse dans $M(F_2)$ avec la méthode .inv_mod(2)."
   ]
  },
  {
   "cell_type": "code",
   "execution_count": 102,
   "id": "0f72eb65",
   "metadata": {},
   "outputs": [
    {
     "name": "stdout",
     "output_type": "stream",
     "text": [
      "⎡1  0  1  0  0  1  1  1  0⎤\n",
      "⎢                         ⎥\n",
      "⎢0  0  0  0  1  0  1  1  1⎥\n",
      "⎢                         ⎥\n",
      "⎢1  0  1  1  0  0  0  1  1⎥\n",
      "⎢                         ⎥\n",
      "⎢0  0  1  0  1  1  0  0  1⎥\n",
      "⎢                         ⎥\n",
      "⎢0  1  0  1  1  1  0  1  0⎥\n",
      "⎢                         ⎥\n",
      "⎢1  0  0  1  1  0  1  0  0⎥\n",
      "⎢                         ⎥\n",
      "⎢1  1  0  0  0  1  1  0  1⎥\n",
      "⎢                         ⎥\n",
      "⎢1  1  1  0  1  0  0  0  0⎥\n",
      "⎢                         ⎥\n",
      "⎣0  1  1  1  0  0  1  0  1⎦\n"
     ]
    }
   ],
   "source": [
    "def InverseMatricePassage(M):\n",
    "    return sp.Matrix(M).inv_mod(2)\n",
    "\n",
    "sp.pretty_print(InverseMatricePassage(Matrice_Passage(3)))"
   ]
  },
  {
   "cell_type": "markdown",
   "id": "06e624a5",
   "metadata": {},
   "source": [
    "# Exercice 6.7 (Solutionneur en dimension 3). Écrire une fonction Solution(A) qui prend en entrée une configuration initiale sous forme d’une matrice 3 * 3 A et retourne une matrice solution S (qui contient des 1 pour les cases où il faut appuyer et des 0 ailleurs)."
   ]
  },
  {
   "cell_type": "code",
   "execution_count": 103,
   "id": "fe1fbb9f",
   "metadata": {},
   "outputs": [
    {
     "name": "stdout",
     "output_type": "stream",
     "text": [
      "[[0. 0. 1.]\n",
      " [1. 0. 1.]\n",
      " [0. 1. 0.]]\n"
     ]
    }
   ],
   "source": [
    "def Solution(A):\n",
    "    V = Vecteur_Colonne(A)\n",
    "    S_vect = InverseMatricePassage(Matrice_Passage(3)) * sp.Matrix(V) % 2\n",
    "    return Matrice(S_vect)\n",
    "\n",
    "A = np.array([\n",
    "    [1, 1, 0],\n",
    "    [1, 1, 0],\n",
    "    [0, 1, 0]])\n",
    "S = Solution(A)\n",
    "print(S)"
   ]
  },
  {
   "cell_type": "markdown",
   "id": "63ff19fb",
   "metadata": {},
   "source": [
    "# Exercice 6.8 (Bonus). Créer une interface graphique pour le jeu grâce à la bibliothèque Pygame. On pourra le faire en dimension 3 puis laisser le choix de la dimension au joueur, ajouter un bouton pour acher la solution (Dans ce cas, on tirera la solution au hasard et la configuration initiale sera son image par la matrice de passage). "
   ]
  },
  {
   "cell_type": "code",
   "execution_count": 107,
   "id": "a4409e7f",
   "metadata": {},
   "outputs": [],
   "source": [
    "# Example file showing a basic pygame \"game loop\"\n",
    "\n",
    "\n",
    "# pygame setup\n",
    "pygame.init()\n",
    "screen = pygame.display.set_mode((1280, 720))\n",
    "clock = pygame.time.Clock()\n",
    "running = True\n",
    "\n",
    "while running:\n",
    "    # poll for events\n",
    "    # pygame.QUIT event means the user clicked X to close your window\n",
    "    for event in pygame.event.get():\n",
    "        if event.type == pygame.QUIT:\n",
    "            running = False\n",
    "\n",
    "    # fill the screen with a color to wipe away anything from last frame\n",
    "    screen.fill(\"purple\")\n",
    "\n",
    "    # RENDER YOUR GAME HERE\n",
    "\n",
    "    # flip() the display to put your work on screen\n",
    "    pygame.display.flip()\n",
    "\n",
    "    clock.tick(60)  # limits FPS to 60\n",
    "\n",
    "pygame.quit()"
   ]
  }
 ],
 "metadata": {
  "kernelspec": {
   "display_name": "env",
   "language": "python",
   "name": "python3"
  },
  "language_info": {
   "codemirror_mode": {
    "name": "ipython",
    "version": 3
   },
   "file_extension": ".py",
   "mimetype": "text/x-python",
   "name": "python",
   "nbconvert_exporter": "python",
   "pygments_lexer": "ipython3",
   "version": "3.12.7"
  }
 },
 "nbformat": 4,
 "nbformat_minor": 5
}
