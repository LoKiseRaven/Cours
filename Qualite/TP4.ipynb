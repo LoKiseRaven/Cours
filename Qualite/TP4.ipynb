{
 "cells": [
  {
   "cell_type": "code",
   "execution_count": 9,
   "metadata": {},
   "outputs": [
    {
     "name": "stdout",
     "output_type": "stream",
     "text": [
      "2\n"
     ]
    }
   ],
   "source": [
    "def compte_lettre(text, lettre):\n",
    "    nb = 0\n",
    "    lettre = lettre.upper()\n",
    "    text = text.upper()\n",
    "    for l in text:\n",
    "        if l == lettre:\n",
    "            nb += 1\n",
    "    return nb\n",
    "\n",
    "print(compte_lettre(\"Bonjour\", \"o\"))"
   ]
  },
  {
   "cell_type": "code",
   "execution_count": 2,
   "metadata": {},
   "outputs": [
    {
     "data": {
      "text/plain": [
       "{'B': 1,\n",
       " 'O': 3,\n",
       " 'N': 2,\n",
       " 'J': 1,\n",
       " 'U': 1,\n",
       " 'R': 1,\n",
       " 'C': 1,\n",
       " 'M': 2,\n",
       " 'E': 1,\n",
       " 'T': 1,\n",
       " 'Ç': 1,\n",
       " 'A': 2,\n",
       " 'V': 1}"
      ]
     },
     "execution_count": 2,
     "metadata": {},
     "output_type": "execute_result"
    }
   ],
   "source": [
    "def compte_lettres(text):\n",
    "    whitelist = \"AÀÁÂÃÄÅÆBCÇDEÈÉÊËFGHIÌÍÎÏJKLMNOÒÓÔÕÖØŒPQRSTUÙÚÛÜVWXYÝZ\"\n",
    "    text = text.upper()\n",
    "    dico = {}\n",
    "    for l in text:\n",
    "        if l in whitelist:\n",
    "            if l in dico:\n",
    "                dico[l] += 1\n",
    "            else:\n",
    "                dico[l] = 1\n",
    "    return dico\n",
    "\n",
    "compte_lettres(\"Bonjour ! Comment ça va ?\")"
   ]
  },
  {
   "cell_type": "code",
   "execution_count": null,
   "metadata": {},
   "outputs": [
    {
     "data": {
      "text/plain": [
       "{'P': 766845,\n",
       " 'L': 2508506,\n",
       " 'A': 4390328,\n",
       " 'C': 2020472,\n",
       " 'E': 3483734,\n",
       " 'T': 1742579,\n",
       " 'I': 5296608,\n",
       " 'V': 1044801,\n",
       " 'D': 1254557,\n",
       " 'M': 3693855,\n",
       " 'U': 3275264,\n",
       " 'S': 1532654,\n",
       " 'Q': 139427,\n",
       " 'N': 2090245,\n",
       " 'R': 2160214,\n",
       " 'O': 2159819,\n",
       " 'H': 348628,\n",
       " 'B': 976084,\n",
       " 'G': 209052,\n",
       " 'F': 69596}"
      ]
     },
     "execution_count": 3,
     "metadata": {},
     "output_type": "execute_result"
    }
   ],
   "source": [
    "file = open(\"texte.txt\", \"r\")\n",
    "compte_lettres(file.read())"
   ]
  }
 ],
 "metadata": {
  "kernelspec": {
   "display_name": "env",
   "language": "python",
   "name": "python3"
  },
  "language_info": {
   "codemirror_mode": {
    "name": "ipython",
    "version": 3
   },
   "file_extension": ".py",
   "mimetype": "text/x-python",
   "name": "python",
   "nbconvert_exporter": "python",
   "pygments_lexer": "ipython3",
   "version": "3.12.7"
  }
 },
 "nbformat": 4,
 "nbformat_minor": 2
}
