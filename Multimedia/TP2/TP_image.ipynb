{
 "cells": [
  {
   "cell_type": "markdown",
   "id": "7fc3b02f",
   "metadata": {},
   "source": [
    "# TP image : comptage de pièces \n",
    "\n",
    "Nom : \n",
    "Prénom :\n",
    "Groupe :"
   ]
  },
  {
   "cell_type": "code",
   "execution_count": 1,
   "id": "8452e055",
   "metadata": {},
   "outputs": [],
   "source": [
    "import cv2\n",
    "import numpy as np\n",
    "import scipy as sc\n",
    "from matplotlib import pyplot as plt\n",
    "import tools as t"
   ]
  },
  {
   "cell_type": "markdown",
   "id": "676a93c9",
   "metadata": {},
   "source": [
    "## Paramètres à modifier si besoin"
   ]
  },
  {
   "cell_type": "code",
   "execution_count": 2,
   "id": "e7af3047",
   "metadata": {},
   "outputs": [],
   "source": [
    "# Chemin vers les images\n",
    "path = \"./im/\"\n",
    "# Numéro de la première image\n",
    "FIRST_IM=1\n",
    "# Numéro de la dernière image\n",
    "LAST_IM=11\n",
    "# Mettre DISPLAY à True si on souhaite tout afficher, et mettre à FALSE pour aller plus vite\n",
    "DISPLAY=True\n",
    "# Nombre de classes K dans le k-means\n",
    "K=5"
   ]
  },
  {
   "cell_type": "markdown",
   "id": "8949d950",
   "metadata": {},
   "source": [
    "## Boucle d'analyse des images \n",
    "\n",
    "de l'image n° FIRST_IM à l'image n°LAST_IM dans le répertoire im\n",
    "\n",
    "Pour passer d'une image à l'autre, appuyer sur une touche (n'importe laquelle)\n"
   ]
  },
  {
   "cell_type": "code",
   "execution_count": null,
   "id": "c8d351bf",
   "metadata": {},
   "outputs": [],
   "source": [
    "iter=FIRST_IM\n",
    "while(iter<=LAST_IM):\n",
    "    # Opening and reading image\n",
    "    path_im= path+ \"im\"+  f\"{iter:0>2d}.jpg\"\n",
    "    frame = cv2.imread(path_im, cv2.IMREAD_COLOR)\n",
    "    \"\"\"Vous avez possibilité de réduire la taille de l'image  \n",
    "    100=100% -->full size, \n",
    "    50 signifie que l'on a divisé par 2 la hauteur et la largeur de l'image\n",
    "    \"\"\"\n",
    "    im=t.myResize(frame, 50)  \n",
    "\n",
    "    \"\"\"\n",
    "    \n",
    "    VOS codes sont à mettre ici\n",
    "    \"\"\"\n",
    "  \n",
    "    if(DISPLAY):\n",
    "        cv2.imshow('Original image', im)     \n",
    "        \"\"\"\n",
    "        Inclure ici les affichages que vous souhaitez\n",
    "        \"\"\"\n",
    "        \n",
    "    cv2.waitKey(0)\n",
    "\n",
    "    iter+=1\n",
    "cv2.destroyAllWindows()"
   ]
  },
  {
   "cell_type": "markdown",
   "id": "4c59f217",
   "metadata": {},
   "source": [
    "# 1. Espaces couleur\n",
    "\n",
    "1. Afficher chacune des 3 composantes RGB (ou canal, ou channel) de l’image im01.jpg. Les images sont elles codées en BGR ou RGB ?\n",
    "\n",
    "...\n",
    "Exemple : \n",
    "<img src=\"im/im01.jpg\" alt=\"drawing\" style=\"width:200px;\"/><img src=\"im/im01.jpg\" alt=\"drawing\" style=\"width:200px;\"/><img src=\"im/im01.jpg\" alt=\"drawing\" style=\"width:200px;\"/>\n",
    "\n",
    "2. Y a t’il un canal (B,G ou R) plus pertinent que les autres pour détecter les pièces ou est-on obligé d’utilisé les 3 ?\n",
    "\n",
    "...\n",
    "\n",
    "3. Convertir l’image en HSV.\n",
    "\n",
    "    (a) À quoi correspond chaque canal ?\n",
    "    (b) Quelle(s) composante(s) couleur sont les plus pertinentes pour distinguer les différentes pièces ?\n",
    "\n",
    "Vous pouvez insérer des images\n",
    "\n",
    "\n",
    "4. Mêmes questions pour LAB.\n",
    "\n",
    "5. Mêmes questions avec la fonction myConvert.\n",
    "\n",
    "    (a) Quelle est la transformation réalisée ?\n",
    "    \n",
    "    (b) Visuellement, quels sont les avantages et inconvénients de cette représentation ?\n"
   ]
  },
  {
   "cell_type": "markdown",
   "id": "74744046",
   "metadata": {},
   "source": [
    "# 2. Lissage de l'image \n",
    "\n",
    "1. Appliquer un filtrage gaussien sur l’image avant la conversion couleur. Que peut-on observer? Quel est l\"impact du paramètre sur le résultat?\n",
    "\n",
    "\n",
    "2. Mêmes questions pour le filtrage médian.\n",
    "\n",
    "\n",
    "3. Donner les avantages et inconvénients de chacun des types de filtrage.\n",
    "\n",
    "\n",
    "Exemple de filtrage :\n",
    "\n",
    "\n",
    "<img src=\"im/im01.jpg\" alt=\"drawing\" style=\"width:200px;\"/>"
   ]
  },
  {
   "cell_type": "markdown",
   "id": "18e5f88f",
   "metadata": {},
   "source": [
    "# 3. Classification couleur\n",
    "\n",
    "1. Compléter la fonction myKmeans (dans le fichier tool.py) pour faire une classification K-moyennes.\n",
    "\n",
    "2. Dans la fonction myKmeans, à quoi correspondent les sorties imlabels, imclasses et centers\n",
    "\n",
    "3. Quel K choisir?\n",
    "\n",
    "Donner des exemples d'images pour différents K.\n",
    "\n",
    "\n"
   ]
  },
  {
   "cell_type": "markdown",
   "id": "253b7f1c",
   "metadata": {},
   "source": [
    "# 4 Segmentation\n",
    "\n",
    "Il reste désormais à compter le nombre de pièces de chaque couleur.\n",
    "\n",
    "1. Pour chacune des K classes de couleurs obtenues précédemment, appliquer la fonction connectedComponentsWithStats d’openCV pour compter et afficher le nombre de composantes connexes par classe.\n",
    "\n",
    "2. Pourquoi y a t’il trop de régions par rapport au nombre de pièces présentes dans l’image ?\n",
    "\n",
    "3. Appliquer une érosion morphologique avant l’étiquetage en composantes connexes. Tester à nouveau. \n",
    "\n",
    "Tester le code sur l’ensemble des images (FIRST_IM=1 et LAST_IM=11). Vous trouverez les valeurs\n",
    "attendues dans le fichier nombre_pieces.ods. Identifier et commenter les cas d’erreurs."
   ]
  },
  {
   "cell_type": "code",
   "execution_count": null,
   "id": "28687eb3",
   "metadata": {},
   "outputs": [],
   "source": []
  }
 ],
 "metadata": {
  "celltoolbar": "Pièces jointes",
  "kernelspec": {
   "display_name": "Python 3 (ipykernel)",
   "language": "python",
   "name": "python3"
  },
  "language_info": {
   "codemirror_mode": {
    "name": "ipython",
    "version": 3
   },
   "file_extension": ".py",
   "mimetype": "text/x-python",
   "name": "python",
   "nbconvert_exporter": "python",
   "pygments_lexer": "ipython3",
   "version": "3.11.2"
  }
 },
 "nbformat": 4,
 "nbformat_minor": 5
}
