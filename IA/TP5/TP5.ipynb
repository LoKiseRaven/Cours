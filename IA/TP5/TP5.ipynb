{
 "cells": [
  {
   "cell_type": "markdown",
   "id": "2b3a820c",
   "metadata": {},
   "source": [
    "# TP5 DA SILVA PEREIRA Théo"
   ]
  },
  {
   "cell_type": "markdown",
   "id": "5b1b4e09",
   "metadata": {},
   "source": [
    "# Partie I : Création de l’environnement virtuel et chargement des données"
   ]
  },
  {
   "cell_type": "markdown",
   "id": "3a7551d7",
   "metadata": {},
   "source": [
    "## Exercice 2 : Écrivez un script pour charger les images contenues dans le dossier \"images\". Vous pouvez utiliser la fonction cv2.imread() pour lire chaque image."
   ]
  },
  {
   "cell_type": "code",
   "execution_count": null,
   "id": "e446bae8",
   "metadata": {},
   "outputs": [],
   "source": [
    "import cv2\n",
    "import os\n",
    "path = \"animals_small/\"\n",
    "dirs = os.listdir(path)\n",
    "\n",
    "for file in dirs:\n",
    "    cv2.imread(path+file)"
   ]
  },
  {
   "cell_type": "markdown",
   "id": "537e4b8a",
   "metadata": {},
   "source": [
    "# Partie II : Extraction de caractéristiques avec OpenCV"
   ]
  },
  {
   "cell_type": "markdown",
   "id": "f272884e",
   "metadata": {},
   "source": [
    "## Exercice 3 Utilisez les méthodes présentées dans le fichier « Image description » pour extraire des caractéristiques à partir des images de votre jeu de données."
   ]
  },
  {
   "cell_type": "code",
   "execution_count": 21,
   "id": "642f284a",
   "metadata": {},
   "outputs": [],
   "source": [
    "def extract_hog_features(image_path):\n",
    "    image_size=(64, 64)\n",
    "    img = cv2.imread(image_path, cv2.IMREAD_GRAYSCALE)\n",
    "    img_resized = cv2.resize(img, image_size)\n",
    "    hog = cv2.HOGDescriptor(\n",
    "    _winSize=image_size, # Taille de l'image (fenêtre d'entrée)\n",
    "    _blockSize=(16, 16), # Taille des blocs\n",
    "    _blockStride=(8, 8), # Stride entre les blocs<\n",
    "    _cellSize=(8, 8), # Taille des cellules\n",
    "    _nbins=9 # Nombre de bins pour les orientations\n",
    "    )\n",
    "    hog_descriptor = hog.compute(img_resized)\n",
    "    return hog_descriptor\n",
    "\n",
    "for file in dirs:\n",
    "    image_path = path+file\n",
    "    #print(image_path)\n",
    "    image = cv2.imread(image_path)\n",
    "    hog_features = extract_hog_features(image_path)\n"
   ]
  },
  {
   "cell_type": "markdown",
   "id": "ea34abda",
   "metadata": {},
   "source": [
    "## Exercice 4 : Enregistrez ces caractéristiques dans un fichier .csv pour pouvoir le ré-utiliser par la suite"
   ]
  },
  {
   "cell_type": "code",
   "execution_count": 22,
   "id": "a6116db4",
   "metadata": {},
   "outputs": [],
   "source": [
    "import pandas as pd\n",
    "\n",
    "list_caracteristiques = []\n",
    "\n",
    "for file in dirs:\n",
    "    image_path = path + file\n",
    "    hog_features = extract_hog_features(image_path)\n",
    "    list_caracteristiques.append(hog_features.flatten())\n",
    "\n",
    "df_caracteristiques = pd.DataFrame(list_caracteristiques)\n",
    "\n",
    "df_caracteristiques.to_csv('hog_features.csv', index=False)"
   ]
  },
  {
   "cell_type": "markdown",
   "id": "5b8e9b37",
   "metadata": {},
   "source": [
    "# Partie III : Clustering et évaluation"
   ]
  },
  {
   "cell_type": "markdown",
   "id": "828496c7",
   "metadata": {},
   "source": [
    "## Exercice 5 : Calculez le clustering de vos images à partir de toutes les caractéristiques utilisées, en faisant varier les paramètres des algorithmes."
   ]
  },
  {
   "cell_type": "code",
   "execution_count": 24,
   "id": "9fb76b0c",
   "metadata": {},
   "outputs": [
    {
     "name": "stdout",
     "output_type": "stream",
     "text": [
      "Labels KMeans : [4 0 4 1 4 1 2 1 1 4 1 0 4 4 4 4 0 0 0 4 0 0 0 4 1 1 1 0 0 1 0 4 4 1 0 1 2\n",
      " 0 4 1 4 4 1 0 0 4 1 1 0 1 4 1 4 0 0 0 1 1 4 4 1 1 0 0 3 1 0 1 4 0 4 3 1 0\n",
      " 1 0 0 4 0 1 4 4 1 4 0 0 4 4 1 0 1 0 1 0 0 4 1 4 1 0]\n",
      "Labels DBSCAN : [-1 -1 -1 -1 -1 -1 -1 -1 -1 -1 -1 -1 -1 -1 -1 -1 -1 -1 -1 -1 -1 -1 -1 -1\n",
      " -1 -1 -1 -1 -1 -1 -1 -1 -1 -1 -1 -1 -1 -1 -1 -1 -1 -1 -1 -1 -1 -1 -1 -1\n",
      " -1 -1 -1 -1 -1 -1 -1 -1 -1 -1 -1 -1 -1 -1 -1 -1 -1 -1 -1 -1 -1 -1 -1 -1\n",
      " -1 -1 -1 -1 -1 -1 -1 -1 -1 -1 -1 -1 -1 -1 -1 -1 -1 -1 -1 -1 -1 -1 -1 -1\n",
      " -1 -1 -1 -1]\n",
      "Labels Hierarchic : [2 5 2 3 2 2 3 2 3 2 2 0 2 0 2 1 0 4 1 2 0 0 0 2 2 2 2 0 0 2 0 3 0 2 0 2 3\n",
      " 0 2 4 2 1 2 0 0 1 2 0 0 6 2 2 2 0 5 1 6 1 4 4 6 2 0 5 2 1 5 2 1 0 1 2 0 0\n",
      " 2 0 0 2 0 2 2 2 4 0 5 0 5 2 2 0 6 0 3 0 0 2 2 2 5 0]\n"
     ]
    }
   ],
   "source": [
    "from sklearn.preprocessing import StandardScaler\n",
    "from sklearn.cluster import KMeans, DBSCAN, AgglomerativeClustering\n",
    "\n",
    "# Normalisation des données\n",
    "scaler = StandardScaler()\n",
    "scaled_data = scaler.fit_transform(df_caracteristiques)\n",
    "\n",
    "# Définition et application des modèles\n",
    "kmeans = KMeans(n_clusters=5, random_state=42)\n",
    "agg_clustering = AgglomerativeClustering(n_clusters=7, linkage=\"average\", metric=\"cosine\")\n",
    "dbscan = DBSCAN(eps=0.2, min_samples=5)\n",
    "\n",
    "# Applications des algorithmes\n",
    "labels_kmeans = kmeans.fit_predict(scaled_data)\n",
    "labels_dbscan = dbscan.fit_predict(scaled_data)\n",
    "labels_hierarchic = agg_clustering.fit_predict(scaled_data)\n",
    "\n",
    "print(f\"Labels KMeans : {labels_kmeans}\")\n",
    "print(f\"Labels DBSCAN : {labels_dbscan}\")\n",
    "print(f\"Labels Hierarchic : {labels_hierarchic}\")"
   ]
  },
  {
   "cell_type": "markdown",
   "id": "bd3c86e0",
   "metadata": {},
   "source": [
    "## Exercice 6 : Utilisez les métriques d'intertie et de silhouette pour évaluer les performances de vos modèles de clustering"
   ]
  },
  {
   "cell_type": "code",
   "execution_count": 27,
   "id": "6306d178",
   "metadata": {},
   "outputs": [
    {
     "name": "stdout",
     "output_type": "stream",
     "text": [
      "Inertie KMeans : 158332.21875\n",
      "Score de silhouette KMeans : 0.01660965383052826\n",
      "Score de silhouette DBSCAN : -1\n",
      "Score de silhouette Agglomerative Clustering : -0.030004048720002174\n"
     ]
    }
   ],
   "source": [
    "from sklearn.metrics import silhouette_score\n",
    "\n",
    "# Calcul de l'inertie pour KMeans\n",
    "inertia_kmeans = kmeans.inertia_\n",
    "\n",
    "# Calcul du score de silhouette pour chaque modèle\n",
    "silhouette_kmeans = silhouette_score(scaled_data, labels_kmeans)\n",
    "silhouette_dbscan = silhouette_score(scaled_data, labels_dbscan) if len(set(labels_dbscan)) > 1 else -1\n",
    "silhouette_hierarchic = silhouette_score(scaled_data, labels_hierarchic)\n",
    "\n",
    "print(f\"Inertie KMeans : {inertia_kmeans}\")\n",
    "print(f\"Score de silhouette KMeans : {silhouette_kmeans}\")\n",
    "print(f\"Score de silhouette DBSCAN : {silhouette_dbscan}\")\n",
    "print(f\"Score de silhouette Agglomerative Clustering : {silhouette_hierarchic}\")"
   ]
  },
  {
   "cell_type": "markdown",
   "id": "70ddc579",
   "metadata": {},
   "source": [
    "## Exercice 7 : Utilisez la méthode du coude pour choisir le meilleur k pour l'algorithme k-means"
   ]
  },
  {
   "cell_type": "code",
   "execution_count": 29,
   "id": "508fa05d",
   "metadata": {},
   "outputs": [
    {
     "data": {
      "image/png": "[encoded data removed]",
      "text/plain": [
       "<Figure size 800x600 with 1 Axes>"
      ]
     },
     "metadata": {},
     "output_type": "display_data"
    }
   ],
   "source": [
    "import matplotlib.pyplot as plt\n",
    "\n",
    "# Calculer l'inertie pour différents nombres de clusters\n",
    "inertias = []\n",
    "k_range = range(1, 11)\n",
    "for k in k_range:\n",
    "    kmeans = KMeans(n_clusters=k, random_state=42)\n",
    "    kmeans.fit(scaled_data)\n",
    "    inertias.append(kmeans.inertia_)\n",
    "\n",
    "# Tracer la courbe de l'inertie en fonction du nombre de clusters\n",
    "plt.figure(figsize=(8, 6))\n",
    "plt.plot(k_range, inertias, marker='o')\n",
    "plt.xlabel('Nombre de clusters (k)')\n",
    "plt.ylabel('Inertie')\n",
    "plt.title('Méthode du coude pour déterminer le meilleur k')\n",
    "plt.show()"
   ]
  },
  {
   "cell_type": "markdown",
   "id": "66839d74",
   "metadata": {},
   "source": [
    "# Partie IV : Analyse des résultats"
   ]
  },
  {
   "cell_type": "markdown",
   "id": "c0e6e44f",
   "metadata": {},
   "source": [
    "## Exercice 8 : Est-il nécessaire d'utiliser toutes les caractéristiques ? Vérifiez quelle(s) caractéristique(s) parmi les 4 calculées est/sont la/les plus performantes (vous pouvez choisir une seule approche de clustering pour faire cette analyse) ?"
   ]
  },
  {
   "cell_type": "code",
   "execution_count": 30,
   "id": "240013ca",
   "metadata": {},
   "outputs": [
    {
     "name": "stdout",
     "output_type": "stream",
     "text": [
      "Score de silhouette pour la caractéristique 0: 0.5698668956756592\n",
      "Score de silhouette pour la caractéristique 1: 0.5794036984443665\n",
      "Score de silhouette pour la caractéristique 2: 0.556541383266449\n",
      "Score de silhouette pour la caractéristique 3: 0.571915328502655\n"
     ]
    }
   ],
   "source": [
    "from sklearn.metrics import silhouette_score\n",
    "\n",
    "# Sélection des caractéristiques à tester\n",
    "features_to_test = [0, 1, 2, 3]  # Indices des caractéristiques à tester\n",
    "\n",
    "# Initialisation des listes pour stocker les scores de silhouette\n",
    "silhouette_scores = []\n",
    "\n",
    "# Boucle pour tester chaque caractéristique individuellement\n",
    "for feature in features_to_test:\n",
    "    # Sélection de la caractéristique\n",
    "    data = df_caracteristiques.iloc[:, feature].values.reshape(-1, 1)\n",
    "    \n",
    "    # Normalisation de la caractéristique\n",
    "    scaled_data = scaler.fit_transform(data)\n",
    "    \n",
    "    # Application de KMeans\n",
    "    kmeans = KMeans(n_clusters=5, random_state=42)\n",
    "    labels = kmeans.fit_predict(scaled_data)\n",
    "    \n",
    "    # Calcul du score de silhouette\n",
    "    silhouette = silhouette_score(scaled_data, labels)\n",
    "    silhouette_scores.append(silhouette)\n",
    "\n",
    "# Affichage des scores de silhouette pour chaque caractéristique\n",
    "for i, score in enumerate(silhouette_scores):\n",
    "    print(f\"Score de silhouette pour la caractéristique {i}: {score}\")"
   ]
  }
 ],
 "metadata": {
  "kernelspec": {
   "display_name": "env",
   "language": "python",
   "name": "python3"
  },
  "language_info": {
   "codemirror_mode": {
    "name": "ipython",
    "version": 3
   },
   "file_extension": ".py",
   "mimetype": "text/x-python",
   "name": "python",
   "nbconvert_exporter": "python",
   "pygments_lexer": "ipython3",
   "version": "3.12.7"
  }
 },
 "nbformat": 4,
 "nbformat_minor": 5
}
