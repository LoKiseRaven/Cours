{
 "cells": [
  {
   "cell_type": "code",
   "execution_count": 1,
   "id": "f2f66d99-b7cb-49c3-9758-0791340fe9fe",
   "metadata": {},
   "outputs": [
    {
     "name": "stdout",
     "output_type": "stream",
     "text": [
      "Hello world !\n"
     ]
    }
   ],
   "source": [
    "print(\"Hello world !\")"
   ]
  },
  {
   "cell_type": "markdown",
   "id": "9a1065cc-3ebf-4170-893c-d745a6d4a071",
   "metadata": {},
   "source": [
    "# Introduction\n",
    "Ce notebook contient un exemple simple d'utilisation de Jupyter\n",
    "Notebook.\n",
    "## Section 1 : Code\n",
    "Nous allons commencer par exécuter du code Python."
   ]
  },
  {
   "cell_type": "markdown",
   "id": "f1f788b8-134d-4e9d-b45c-0608a48c0b5e",
   "metadata": {},
   "source": [
    "Voici une formule mathématique en LaTeX :\n",
    "$$ E = mc^2 $$"
   ]
  },
  {
   "cell_type": "raw",
   "id": "6ef60c6e-cef6-4d89-bee6-e2eb9392d5bb",
   "metadata": {},
   "source": [
    "blabla"
   ]
  },
  {
   "cell_type": "markdown",
   "id": "46e0ddf4-1a12-4f44-a6a1-536374ff32cc",
   "metadata": {},
   "source": [
    "# __Exercice 2__ : Concepts de base en Python\n",
    "### 1. Variables et types de données"
   ]
  },
  {
   "cell_type": "code",
   "execution_count": 2,
   "id": "91e8ea53-ab90-4e71-bdcf-1a1396c4c6a9",
   "metadata": {},
   "outputs": [
    {
     "name": "stdout",
     "output_type": "stream",
     "text": [
      "Nom : Étudiant, Âge : 22\n"
     ]
    }
   ],
   "source": [
    "nom = \"Étudiant\"\n",
    "age = 22\n",
    "print(f\"Nom : {nom}, Âge : {age}\")"
   ]
  },
  {
   "cell_type": "code",
   "execution_count": 3,
   "id": "76aeec10-ebec-4add-b18d-ce82e268250a",
   "metadata": {},
   "outputs": [
    {
     "name": "stdout",
     "output_type": "stream",
     "text": [
      "La somme de 5 et 3 est 8\n",
      "Le produit de 5 et 3 est 15\n"
     ]
    }
   ],
   "source": [
    "a = 5\n",
    "b = 3\n",
    "somme = a + b\n",
    "produit = a * b\n",
    "print(f\"La somme de {a} et {b} est {somme}\")\n",
    "print(f\"Le produit de {a} et {b} est {produit}\")"
   ]
  },
  {
   "cell_type": "markdown",
   "id": "80b3e725-0e07-431d-aee3-d3bdb6f64dd4",
   "metadata": {},
   "source": [
    "### 2. Manipulation de listes et boucles"
   ]
  },
  {
   "cell_type": "code",
   "execution_count": 4,
   "id": "6dd13ca6-3d31-48cd-bc9d-7ae9574bedb6",
   "metadata": {},
   "outputs": [
    {
     "name": "stdout",
     "output_type": "stream",
     "text": [
      "1\n",
      "2\n",
      "3\n",
      "4\n",
      "5\n"
     ]
    }
   ],
   "source": [
    "nombres = [1, 2, 3, 4, 5]\n",
    "for nombre in nombres:\n",
    "    print(nombre)"
   ]
  },
  {
   "cell_type": "code",
   "execution_count": 5,
   "id": "cbe80c61-cb51-4e55-ae0d-508ca41a2efc",
   "metadata": {},
   "outputs": [
    {
     "name": "stdout",
     "output_type": "stream",
     "text": [
      "somme : 15\n",
      "min : 1\n",
      "max : 5\n"
     ]
    }
   ],
   "source": [
    "somme = 0\n",
    "if nombres is not None:\n",
    "    min = nombres[0]\n",
    "    max = nombres[0]\n",
    "    for nombre in nombres:\n",
    "        somme += nombre\n",
    "        if nombre < min:\n",
    "            min = nombre\n",
    "        if nombre > max:\n",
    "            max = nombre\n",
    "print(f\"somme : {somme}\")\n",
    "print(f\"min : {min}\")\n",
    "print(f\"max : {max}\")"
   ]
  },
  {
   "cell_type": "markdown",
   "id": "34fedc53-5136-45da-8e1c-e7f78846d28f",
   "metadata": {},
   "source": [
    "### 3. Premières visualisation avec Matplotlib"
   ]
  },
  {
   "cell_type": "code",
   "execution_count": 6,
   "id": "f9160159-1300-4591-acba-cd4e1e9738d5",
   "metadata": {},
   "outputs": [
    {
     "data": {
      "image/png": "[encoded data removed]",
      "text/plain": [
       "<Figure size 640x480 with 1 Axes>"
      ]
     },
     "metadata": {},
     "output_type": "display_data"
    }
   ],
   "source": [
    "import matplotlib.pyplot as plt\n",
    "x = [1, 2, 3, 4, 5]\n",
    "y = [2, 4, 6, 8, 10]\n",
    "plt.plot(x, y)\n",
    "plt.title(\"Graphique simple\")\n",
    "plt.xlabel(\"X\")\n",
    "plt.ylabel(\"Y\")\n",
    "plt.show()"
   ]
  },
  {
   "cell_type": "code",
   "execution_count": null,
   "id": "0dd7facd-9a47-4d47-baa3-b38852df02bc",
   "metadata": {},
   "outputs": [],
   "source": []
  }
 ],
 "metadata": {
  "kernelspec": {
   "display_name": "env",
   "language": "python",
   "name": "python3"
  },
  "language_info": {
   "codemirror_mode": {
    "name": "ipython",
    "version": 3
   },
   "file_extension": ".py",
   "mimetype": "text/x-python",
   "name": "python",
   "nbconvert_exporter": "python",
   "pygments_lexer": "ipython3",
   "version": "3.12.7"
  }
 },
 "nbformat": 4,
 "nbformat_minor": 5
}
