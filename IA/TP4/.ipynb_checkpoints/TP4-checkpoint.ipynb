{
 "cells": [
  {
   "cell_type": "markdown",
   "id": "00f2ead0-779b-421a-8339-ae96e083d27a",
   "metadata": {},
   "source": [
    "# TP4 DA SILVA PEREIRA Théo"
   ]
  },
  {
   "cell_type": "markdown",
   "id": "a192a238-c546-438b-a6ec-a92b1c407ede",
   "metadata": {},
   "source": [
    "# Partie 1 : Création de l’environnement virtuel et chargement des données"
   ]
  },
  {
   "cell_type": "code",
   "execution_count": null,
   "id": "f0e0a42d-49dc-4f49-bc24-1d816de84a71",
   "metadata": {},
   "outputs": [],
   "source": []
  }
 ],
 "metadata": {
  "kernelspec": {
   "display_name": "Python 3 (ipykernel)",
   "language": "python",
   "name": "python3"
  },
  "language_info": {
   "codemirror_mode": {
    "name": "ipython",
    "version": 3
   },
   "file_extension": ".py",
   "mimetype": "text/x-python",
   "name": "python",
   "nbconvert_exporter": "python",
   "pygments_lexer": "ipython3",
   "version": "3.12.7"
  }
 },
 "nbformat": 4,
 "nbformat_minor": 5
}
