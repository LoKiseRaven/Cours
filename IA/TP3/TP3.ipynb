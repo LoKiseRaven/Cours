{
 "cells": [
  {
   "cell_type": "markdown",
   "id": "3844a92c-3ca7-47a3-9192-0c39bbc47d7e",
   "metadata": {},
   "source": [
    "# TP 3 DA SILVA PEREIRA Théo"
   ]
  },
  {
   "cell_type": "markdown",
   "id": "72eb51e3-bf7c-4685-97ad-3e1b79fcf522",
   "metadata": {},
   "source": [
    "# Partie I : Création de l’environnement virtuel et chargement des données"
   ]
  },
  {
   "cell_type": "markdown",
   "id": "3099287a-a6bf-45a0-9c7d-a7a6a6cf3d97",
   "metadata": {},
   "source": [
    "## Exercice 2 : Chargement et visualisation des données"
   ]
  },
  {
   "cell_type": "code",
   "execution_count": 1,
   "id": "c3e4fb3f-e146-4c91-a69e-de5dbc8227f4",
   "metadata": {},
   "outputs": [],
   "source": [
    "import pandas as pd"
   ]
  },
  {
   "cell_type": "code",
   "execution_count": 2,
   "id": "6bae44b3-afd6-4535-8a33-20d5d67857de",
   "metadata": {},
   "outputs": [],
   "source": [
    "df = pd.read_csv('chat_dataset.csv', delimiter=',', on_bad_lines='skip')"
   ]
  },
  {
   "cell_type": "code",
   "execution_count": 3,
   "id": "5cd27164-7d96-44da-bbdb-3ae7a4f9456c",
   "metadata": {},
   "outputs": [
    {
     "data": {
      "text/html": [
       "<div>\n",
       "<style scoped>\n",
       "    .dataframe tbody tr th:only-of-type {\n",
       "        vertical-align: middle;\n",
       "    }\n",
       "\n",
       "    .dataframe tbody tr th {\n",
       "        vertical-align: top;\n",
       "    }\n",
       "\n",
       "    .dataframe thead th {\n",
       "        text-align: right;\n",
       "    }\n",
       "</style>\n",
       "<table border=\"1\" class=\"dataframe\">\n",
       "  <thead>\n",
       "    <tr style=\"text-align: right;\">\n",
       "      <th></th>\n",
       "      <th>message</th>\n",
       "      <th>sentiment</th>\n",
       "    </tr>\n",
       "  </thead>\n",
       "  <tbody>\n",
       "    <tr>\n",
       "      <th>0</th>\n",
       "      <td>I really enjoyed the movie</td>\n",
       "      <td>positive</td>\n",
       "    </tr>\n",
       "    <tr>\n",
       "      <th>1</th>\n",
       "      <td>The food was terrible</td>\n",
       "      <td>negative</td>\n",
       "    </tr>\n",
       "    <tr>\n",
       "      <th>2</th>\n",
       "      <td>I'm not sure how I feel about this</td>\n",
       "      <td>neutral</td>\n",
       "    </tr>\n",
       "    <tr>\n",
       "      <th>3</th>\n",
       "      <td>The service was excellent</td>\n",
       "      <td>positive</td>\n",
       "    </tr>\n",
       "    <tr>\n",
       "      <th>4</th>\n",
       "      <td>I had a bad experience</td>\n",
       "      <td>negative</td>\n",
       "    </tr>\n",
       "    <tr>\n",
       "      <th>...</th>\n",
       "      <td>...</td>\n",
       "      <td>...</td>\n",
       "    </tr>\n",
       "    <tr>\n",
       "      <th>579</th>\n",
       "      <td>I have to cancel my vacation plans because I c...</td>\n",
       "      <td>negative</td>\n",
       "    </tr>\n",
       "    <tr>\n",
       "      <th>580</th>\n",
       "      <td>My computer crashed and I lost all my importan...</td>\n",
       "      <td>negative</td>\n",
       "    </tr>\n",
       "    <tr>\n",
       "      <th>581</th>\n",
       "      <td>I got into a car accident and my car is totale...</td>\n",
       "      <td>negative</td>\n",
       "    </tr>\n",
       "    <tr>\n",
       "      <th>582</th>\n",
       "      <td>I have a cold and can't stop coughing. it's re...</td>\n",
       "      <td>negative</td>\n",
       "    </tr>\n",
       "    <tr>\n",
       "      <th>583</th>\n",
       "      <td>I just found out my ex is dating someone new. ...</td>\n",
       "      <td>negative</td>\n",
       "    </tr>\n",
       "  </tbody>\n",
       "</table>\n",
       "<p>584 rows × 2 columns</p>\n",
       "</div>"
      ],
      "text/plain": [
       "                                               message sentiment\n",
       "0                           I really enjoyed the movie  positive\n",
       "1                                The food was terrible  negative\n",
       "2                   I'm not sure how I feel about this   neutral\n",
       "3                            The service was excellent  positive\n",
       "4                               I had a bad experience  negative\n",
       "..                                                 ...       ...\n",
       "579  I have to cancel my vacation plans because I c...  negative\n",
       "580  My computer crashed and I lost all my importan...  negative\n",
       "581  I got into a car accident and my car is totale...  negative\n",
       "582  I have a cold and can't stop coughing. it's re...  negative\n",
       "583  I just found out my ex is dating someone new. ...  negative\n",
       "\n",
       "[584 rows x 2 columns]"
      ]
     },
     "execution_count": 3,
     "metadata": {},
     "output_type": "execute_result"
    }
   ],
   "source": [
    "df"
   ]
  },
  {
   "cell_type": "code",
   "execution_count": 4,
   "id": "4a4d918e-3549-463a-9ea6-628d2da22ed1",
   "metadata": {},
   "outputs": [
    {
     "name": "stdout",
     "output_type": "stream",
     "text": [
      "Nombre de document : 584\n",
      "Moyenne des textes : 36.49486301369863\n"
     ]
    }
   ],
   "source": [
    "print(f\"Nombre de document : {len(df['message'])}\")\n",
    "print(f\"Moyenne des textes : {df['message'].apply(lambda x: len(x)).mean()}\")"
   ]
  },
  {
   "cell_type": "markdown",
   "id": "b9671c44-5b91-4333-b08a-835c5726c46a",
   "metadata": {},
   "source": [
    "# Partie II : Pré-traitement des données"
   ]
  },
  {
   "cell_type": "markdown",
   "id": "f3866707-6813-4acf-bf91-a618c28b67df",
   "metadata": {},
   "source": [
    "### Exercice 3"
   ]
  },
  {
   "cell_type": "markdown",
   "id": "975c55ad-527a-4898-b78b-361075f1eab0",
   "metadata": {},
   "source": [
    "#### Suppression des mots vides"
   ]
  },
  {
   "cell_type": "code",
   "execution_count": 5,
   "id": "1426eaa6-738f-4d50-8e4c-c1c0f30b1298",
   "metadata": {},
   "outputs": [
    {
     "name": "stderr",
     "output_type": "stream",
     "text": [
      "[nltk_data] Error loading stopwords: <urlopen error [Errno -3]\n",
      "[nltk_data]     Temporary failure in name resolution>\n"
     ]
    }
   ],
   "source": [
    "import nltk\n",
    "from nltk.corpus import stopwords\n",
    "nltk.download('stopwords')\n",
    "stop_words = set(stopwords.words('english'))\n",
    "def remove_stopwords(text):\n",
    "    return ' '.join([word for word in text.split() if word.lower() not in stop_words])\n",
    "df['text_clean'] = df['message'].apply(remove_stopwords)"
   ]
  },
  {
   "cell_type": "markdown",
   "id": "f832bb22-ffab-48d6-b27f-41a6e89bb582",
   "metadata": {},
   "source": [
    "### Exercice 4"
   ]
  },
  {
   "cell_type": "markdown",
   "id": "88dca487-efe3-453b-bf6d-84d82c6cd0e0",
   "metadata": {},
   "source": [
    "#### Racinisation avec nltk"
   ]
  },
  {
   "cell_type": "code",
   "execution_count": 6,
   "id": "64d31093-965b-433e-bd1c-ea7216bb3fb6",
   "metadata": {},
   "outputs": [],
   "source": [
    "from nltk.stem import PorterStemmer\n",
    "stemmer = PorterStemmer()\n",
    "def stem_words(text):\n",
    "    return ' '.join([stemmer.stem(word) for word in text.split()])\n",
    "df['text_stemmed'] = df['text_clean'].apply(stem_words)"
   ]
  },
  {
   "cell_type": "markdown",
   "id": "9af8a99c-b5a3-4d0c-8aa8-1cd25d5cc76f",
   "metadata": {},
   "source": [
    "### Lemmatisation avec spaCy"
   ]
  },
  {
   "cell_type": "code",
   "execution_count": 7,
   "id": "b4e32f3d-aaef-4fc6-a556-3530ba4ff5ff",
   "metadata": {},
   "outputs": [
    {
     "name": "stdout",
     "output_type": "stream",
     "text": [
      "Traceback (most recent call last):\n",
      "  File \"/home/theo/Cours/S5/IA/TP3/venv/lib/python3.12/site-packages/urllib3/connection.py\", line 199, in _new_conn\n",
      "    sock = connection.create_connection(\n",
      "           ^^^^^^^^^^^^^^^^^^^^^^^^^^^^^\n",
      "  File \"/home/theo/Cours/S5/IA/TP3/venv/lib/python3.12/site-packages/urllib3/util/connection.py\", line 60, in create_connection\n",
      "    for res in socket.getaddrinfo(host, port, family, socket.SOCK_STREAM):\n",
      "               ^^^^^^^^^^^^^^^^^^^^^^^^^^^^^^^^^^^^^^^^^^^^^^^^^^^^^^^^^^\n",
      "  File \"/usr/lib/python3.12/socket.py\", line 976, in getaddrinfo\n",
      "    for res in _socket.getaddrinfo(host, port, family, type, proto, flags):\n",
      "               ^^^^^^^^^^^^^^^^^^^^^^^^^^^^^^^^^^^^^^^^^^^^^^^^^^^^^^^^^^^\n",
      "socket.gaierror: [Errno -3] Temporary failure in name resolution\n",
      "\n",
      "The above exception was the direct cause of the following exception:\n",
      "\n",
      "Traceback (most recent call last):\n",
      "  File \"/home/theo/Cours/S5/IA/TP3/venv/lib/python3.12/site-packages/urllib3/connectionpool.py\", line 789, in urlopen\n",
      "    response = self._make_request(\n",
      "               ^^^^^^^^^^^^^^^^^^^\n",
      "  File \"/home/theo/Cours/S5/IA/TP3/venv/lib/python3.12/site-packages/urllib3/connectionpool.py\", line 490, in _make_request\n",
      "    raise new_e\n",
      "  File \"/home/theo/Cours/S5/IA/TP3/venv/lib/python3.12/site-packages/urllib3/connectionpool.py\", line 466, in _make_request\n",
      "    self._validate_conn(conn)\n",
      "  File \"/home/theo/Cours/S5/IA/TP3/venv/lib/python3.12/site-packages/urllib3/connectionpool.py\", line 1095, in _validate_conn\n",
      "    conn.connect()\n",
      "  File \"/home/theo/Cours/S5/IA/TP3/venv/lib/python3.12/site-packages/urllib3/connection.py\", line 693, in connect\n",
      "    self.sock = sock = self._new_conn()\n",
      "                       ^^^^^^^^^^^^^^^^\n",
      "  File \"/home/theo/Cours/S5/IA/TP3/venv/lib/python3.12/site-packages/urllib3/connection.py\", line 206, in _new_conn\n",
      "    raise NameResolutionError(self.host, self, e) from e\n",
      "urllib3.exceptions.NameResolutionError: <urllib3.connection.HTTPSConnection object at 0x7b2fafd1ad50>: Failed to resolve 'raw.githubusercontent.com' ([Errno -3] Temporary failure in name resolution)\n",
      "\n",
      "The above exception was the direct cause of the following exception:\n",
      "\n",
      "Traceback (most recent call last):\n",
      "  File \"/home/theo/Cours/S5/IA/TP3/venv/lib/python3.12/site-packages/requests/adapters.py\", line 667, in send\n",
      "    resp = conn.urlopen(\n",
      "           ^^^^^^^^^^^^^\n",
      "  File \"/home/theo/Cours/S5/IA/TP3/venv/lib/python3.12/site-packages/urllib3/connectionpool.py\", line 843, in urlopen\n",
      "    retries = retries.increment(\n",
      "              ^^^^^^^^^^^^^^^^^^\n",
      "  File \"/home/theo/Cours/S5/IA/TP3/venv/lib/python3.12/site-packages/urllib3/util/retry.py\", line 519, in increment\n",
      "    raise MaxRetryError(_pool, url, reason) from reason  # type: ignore[arg-type]\n",
      "    ^^^^^^^^^^^^^^^^^^^^^^^^^^^^^^^^^^^^^^^^^^^^^^^^^^^\n",
      "urllib3.exceptions.MaxRetryError: HTTPSConnectionPool(host='raw.githubusercontent.com', port=443): Max retries exceeded with url: /explosion/spacy-models/master/compatibility.json (Caused by NameResolutionError(\"<urllib3.connection.HTTPSConnection object at 0x7b2fafd1ad50>: Failed to resolve 'raw.githubusercontent.com' ([Errno -3] Temporary failure in name resolution)\"))\n",
      "\n",
      "During handling of the above exception, another exception occurred:\n",
      "\n",
      "Traceback (most recent call last):\n",
      "  File \"<frozen runpy>\", line 198, in _run_module_as_main\n",
      "  File \"<frozen runpy>\", line 88, in _run_code\n",
      "  File \"/home/theo/Cours/S5/IA/TP3/venv/lib/python3.12/site-packages/spacy/__main__.py\", line 4, in <module>\n",
      "    setup_cli()\n",
      "  File \"/home/theo/Cours/S5/IA/TP3/venv/lib/python3.12/site-packages/spacy/cli/_util.py\", line 87, in setup_cli\n",
      "    command(prog_name=COMMAND)\n",
      "  File \"/home/theo/Cours/S5/IA/TP3/venv/lib/python3.12/site-packages/click/core.py\", line 1157, in __call__\n",
      "    return self.main(*args, **kwargs)\n",
      "           ^^^^^^^^^^^^^^^^^^^^^^^^^^\n",
      "  File \"/home/theo/Cours/S5/IA/TP3/venv/lib/python3.12/site-packages/typer/core.py\", line 728, in main\n",
      "    return _main(\n",
      "           ^^^^^^\n",
      "  File \"/home/theo/Cours/S5/IA/TP3/venv/lib/python3.12/site-packages/typer/core.py\", line 197, in _main\n",
      "    rv = self.invoke(ctx)\n",
      "         ^^^^^^^^^^^^^^^^\n",
      "  File \"/home/theo/Cours/S5/IA/TP3/venv/lib/python3.12/site-packages/click/core.py\", line 1688, in invoke\n",
      "    return _process_result(sub_ctx.command.invoke(sub_ctx))\n",
      "                           ^^^^^^^^^^^^^^^^^^^^^^^^^^^^^^^\n",
      "  File \"/home/theo/Cours/S5/IA/TP3/venv/lib/python3.12/site-packages/click/core.py\", line 1434, in invoke\n",
      "    return ctx.invoke(self.callback, **ctx.params)\n",
      "           ^^^^^^^^^^^^^^^^^^^^^^^^^^^^^^^^^^^^^^^\n",
      "  File \"/home/theo/Cours/S5/IA/TP3/venv/lib/python3.12/site-packages/click/core.py\", line 783, in invoke\n",
      "    return __callback(*args, **kwargs)\n",
      "           ^^^^^^^^^^^^^^^^^^^^^^^^^^^\n",
      "  File \"/home/theo/Cours/S5/IA/TP3/venv/lib/python3.12/site-packages/typer/main.py\", line 703, in wrapper\n",
      "    return callback(**use_params)\n",
      "           ^^^^^^^^^^^^^^^^^^^^^^\n",
      "  File \"/home/theo/Cours/S5/IA/TP3/venv/lib/python3.12/site-packages/spacy/cli/download.py\", line 44, in download_cli\n",
      "    download(model, direct, sdist, *ctx.args)\n",
      "  File \"/home/theo/Cours/S5/IA/TP3/venv/lib/python3.12/site-packages/spacy/cli/download.py\", line 85, in download\n",
      "    compatibility = get_compatibility()\n",
      "                    ^^^^^^^^^^^^^^^^^^^\n",
      "  File \"/home/theo/Cours/S5/IA/TP3/venv/lib/python3.12/site-packages/spacy/cli/download.py\", line 130, in get_compatibility\n",
      "    r = requests.get(about.__compatibility__)\n",
      "        ^^^^^^^^^^^^^^^^^^^^^^^^^^^^^^^^^^^^^\n",
      "  File \"/home/theo/Cours/S5/IA/TP3/venv/lib/python3.12/site-packages/requests/api.py\", line 73, in get\n",
      "    return request(\"get\", url, params=params, **kwargs)\n",
      "           ^^^^^^^^^^^^^^^^^^^^^^^^^^^^^^^^^^^^^^^^^^^^\n",
      "  File \"/home/theo/Cours/S5/IA/TP3/venv/lib/python3.12/site-packages/requests/api.py\", line 59, in request\n",
      "    return session.request(method=method, url=url, **kwargs)\n",
      "           ^^^^^^^^^^^^^^^^^^^^^^^^^^^^^^^^^^^^^^^^^^^^^^^^^\n",
      "  File \"/home/theo/Cours/S5/IA/TP3/venv/lib/python3.12/site-packages/requests/sessions.py\", line 589, in request\n",
      "    resp = self.send(prep, **send_kwargs)\n",
      "           ^^^^^^^^^^^^^^^^^^^^^^^^^^^^^^\n",
      "  File \"/home/theo/Cours/S5/IA/TP3/venv/lib/python3.12/site-packages/requests/sessions.py\", line 703, in send\n",
      "    r = adapter.send(request, **kwargs)\n",
      "        ^^^^^^^^^^^^^^^^^^^^^^^^^^^^^^^\n",
      "  File \"/home/theo/Cours/S5/IA/TP3/venv/lib/python3.12/site-packages/requests/adapters.py\", line 700, in send\n",
      "    raise ConnectionError(e, request=request)\n",
      "requests.exceptions.ConnectionError: HTTPSConnectionPool(host='raw.githubusercontent.com', port=443): Max retries exceeded with url: /explosion/spacy-models/master/compatibility.json (Caused by NameResolutionError(\"<urllib3.connection.HTTPSConnection object at 0x7b2fafd1ad50>: Failed to resolve 'raw.githubusercontent.com' ([Errno -3] Temporary failure in name resolution)\"))\n"
     ]
    }
   ],
   "source": [
    "!python -m spacy download en_core_web_sm"
   ]
  },
  {
   "cell_type": "code",
   "execution_count": 8,
   "id": "910a4646-5bb2-4f71-99a3-768e55951630",
   "metadata": {},
   "outputs": [
    {
     "ename": "IndentationError",
     "evalue": "expected an indented block after function definition on line 3 (3900007932.py, line 4)",
     "output_type": "error",
     "traceback": [
      "\u001b[0;36m  Cell \u001b[0;32mIn[8], line 4\u001b[0;36m\u001b[0m\n\u001b[0;31m    doc = nlp(text)\u001b[0m\n\u001b[0m    ^\u001b[0m\n\u001b[0;31mIndentationError\u001b[0m\u001b[0;31m:\u001b[0m expected an indented block after function definition on line 3\n"
     ]
    }
   ],
   "source": [
    "import spacy\n",
    "nlp = spacy.load('en_core_web_sm')\n",
    "def lemmatize_words(text):\n",
    "doc = nlp(text)\n",
    "return ' '.join([token.lemma_ for token in doc])\n",
    "df['text_lemmatized'] = df['text_clean'].apply(lemmatize_words)"
   ]
  },
  {
   "cell_type": "markdown",
   "id": "9a040542-50a4-40bb-a832-0de7ff69d563",
   "metadata": {},
   "source": [
    "# Partie III : Représentation des données"
   ]
  },
  {
   "cell_type": "code",
   "execution_count": null,
   "id": "ca3e218e-dbb3-4186-9658-ddd269d87adc",
   "metadata": {},
   "outputs": [],
   "source": [
    "import nltk\n",
    "nltk.download('averaged_perceptron_tagger_eng')\n",
    "nltk.download('punkt_tab')\n",
    "# Exemple d'étiquetage POS avec nltk\n",
    "text = \"The quick brown fox jumps over the lazy dog.\"\n",
    "tokens = nltk.word_tokenize(text)\n",
    "pos_tags = nltk.pos_tag(tokens)\n",
    "print(pos_tags)"
   ]
  },
  {
   "cell_type": "code",
   "execution_count": null,
   "id": "20351979-5c94-4172-9a19-0c7ecc51fe52",
   "metadata": {},
   "outputs": [],
   "source": [
    "import spacy\n",
    "# Charger le modèle anglais de spaCy\n",
    "nlp = spacy.load('en_core_web_sm')\n",
    "# Exemple d'étiquetage POS avec spaCy\n",
    "text = \"The quick brown fox jumps over the lazy dog.\"\n",
    "doc = nlp(text)\n",
    "# Affichage des tokens avec leur POS tag\n",
    "for token in doc:\n",
    "    print(token.text, token.pos_)"
   ]
  },
  {
   "cell_type": "markdown",
   "id": "8ca67557-11d8-417a-bd74-bf82c7795037",
   "metadata": {},
   "source": [
    "## Exercice 5"
   ]
  },
  {
   "cell_type": "code",
   "execution_count": null,
   "id": "5e7821c8-aa10-4c91-98fa-f7087c97684d",
   "metadata": {},
   "outputs": [],
   "source": [
    "def word_tokenize(text):\n",
    "    return ntlk.pos_tag(nltk.word_tokenize(text))\n",
    "\n",
    "df['word_tokenize'] = df['text_lemmatized'].apply(lambda x: word_tokenize(x))\n",
    "\n",
    "df['word_tokenize']"
   ]
  },
  {
   "cell_type": "code",
   "execution_count": null,
   "id": "06164090-683c-4190-b0fc-d2362355851c",
   "metadata": {},
   "outputs": [],
   "source": []
  }
 ],
 "metadata": {
  "kernelspec": {
   "display_name": "Python 3 (ipykernel)",
   "language": "python",
   "name": "python3"
  },
  "language_info": {
   "codemirror_mode": {
    "name": "ipython",
    "version": 3
   },
   "file_extension": ".py",
   "mimetype": "text/x-python",
   "name": "python",
   "nbconvert_exporter": "python",
   "pygments_lexer": "ipython3",
   "version": "3.12.6"
  }
 },
 "nbformat": 4,
 "nbformat_minor": 5
}
